{
  "cells": [
    {
      "cell_type": "code",
      "execution_count": null,
      "metadata": {
        "colab": {
          "base_uri": "https://localhost:8080/"
        },
        "id": "BhQ1b03Bul1G",
        "outputId": "a5bf3d41-66ed-4d90-d31f-c5460d7855e0"
      },
      "outputs": [
        {
          "output_type": "stream",
          "name": "stdout",
          "text": [
            "Sample rate: 44100 Hz\n",
            "Shape: (2, 1310328)\n",
            "Dtype: torch.float32\n"
          ]
        }
      ],
      "source": [
        "import os\n",
        "import requests\n",
        "import torch\n",
        "import torchaudio\n",
        "import numpy as np\n",
        "import pandas as pd\n",
        "import matplotlib.pyplot as plt\n",
        "\n",
        "def print_stats(waveform, sample_rate=None, src=None):\n",
        "    if src:\n",
        "        print(f\"{src}\")\n",
        "    if sample_rate:\n",
        "        print(f\"Sample rate: {sample_rate} Hz\")\n",
        "    print(f\"Shape: {tuple(waveform.shape)}\")\n",
        "    print(f\"Dtype: {waveform.dtype}\")\n",
        "\n",
        "# def plot_waveform(waveform, sample_rate, save_path=None):\n",
        "#     plt.figure()\n",
        "#     plt.plot(waveform.t().numpy())\n",
        "#     if save_path:\n",
        "#         plt.savefig(save_path)\n",
        "#     else:\n",
        "#         plt.show()\n",
        "\n",
        "# def plot_specgram(waveform, sample_rate, save_path=None):\n",
        "#     plt.figure()\n",
        "#     specgram = torchaudio.transforms.Spectrogram()(waveform)\n",
        "#     plt.imshow(specgram.log2()[0, :, :].numpy(), cmap='gray', aspect='auto')\n",
        "#     plt.colorbar()\n",
        "    # if save_path:\n",
        "    #     plt.savefig(save_path)\n",
        "    # else:\n",
        "    #     plt.show()\n",
        "\n",
        "def plot_waveform(waveform, sample_rate, title=\"Waveform\", xlim=None, ylim=None, save_path=None):\n",
        "  waveform = waveform.numpy()\n",
        "\n",
        "  num_channels, num_frames = waveform.shape\n",
        "  time_axis = torch.arange(0, num_frames) / sample_rate\n",
        "\n",
        "  figure, axes = plt.subplots(num_channels, 1)\n",
        "  if num_channels == 1:\n",
        "    axes = [axes]\n",
        "  for c in range(num_channels):\n",
        "    axes[c].plot(time_axis, waveform[c], linewidth=1)\n",
        "    axes[c].grid(True)\n",
        "    if num_channels > 1:\n",
        "      axes[c].set_ylabel(f'Channel {c+1}')\n",
        "    if xlim:\n",
        "      axes[c].set_xlim(xlim)\n",
        "    if ylim:\n",
        "      axes[c].set_ylim(ylim)\n",
        "  figure.suptitle(title)\n",
        "  plt.show(block=False)\n",
        "  if save_path:\n",
        "    plt.savefig(save_path)\n",
        "  else:\n",
        "    plt.show()\n",
        "\n",
        "\n",
        "def plot_specgram(waveform, sample_rate, title=\"Spectrogram\", xlim=None, save_path=None):\n",
        "  waveform = waveform.numpy()\n",
        "\n",
        "  num_channels, num_frames = waveform.shape\n",
        "  time_axis = torch.arange(0, num_frames) / sample_rate\n",
        "\n",
        "  figure, axes = plt.subplots(num_channels, 1)\n",
        "  if num_channels == 1:\n",
        "    axes = [axes]\n",
        "  for c in range(num_channels):\n",
        "    axes[c].specgram(waveform[c], Fs=sample_rate)\n",
        "    if num_channels > 1:\n",
        "      axes[c].set_ylabel(f'Channel {c+1}')\n",
        "    if xlim:\n",
        "      axes[c].set_xlim(xlim)\n",
        "  figure.suptitle(title)\n",
        "  plt.show(block=False)\n",
        "  if save_path:\n",
        "      plt.savefig(save_path)\n",
        "  else:\n",
        "      plt.show()\n",
        "\n",
        "def play_audio(waveform, sample_rate):\n",
        "    pass  # Play the audio using your preferred method\n",
        "\n",
        "# SAMPLE_WAV_SPEECH_PATH = \"path/to/your/audio.wav\"\n",
        "# waveform, sample_rate = torchaudio.load(SAMPLE_WAV_SPEECH_PATH)\n",
        "\n",
        "# print_stats(waveform, sample_rate=sample_rate)\n",
        "# plot_waveform(waveform, sample_rate, save_path='waveform.png')\n",
        "# plot_specgram(waveform, sample_rate, save_path='spectrogram.png')\n",
        "# play_audio(waveform, sample_rate)\n",
        "\n",
        "# Replace this with the name of your DataFrame\n",
        "csv_file = \"danceable_tracks-1.csv\"\n",
        "danceable_tracks = pd.read_csv(csv_file)\n",
        "\n",
        "# Create a folder with the same name as the DataFrame\n",
        "folder_name = \"danceable_tracks\"\n",
        "if not os.path.exists(folder_name):\n",
        "    os.makedirs(folder_name)\n",
        "\n",
        "folder_name_sg = \"danceable_tracks_sg\"\n",
        "if not os.path.exists(folder_name_sg):\n",
        "    os.makedirs(folder_name_sg)\n",
        "\n",
        "folder_name_wf = \"danceable_tracks_wf\"\n",
        "if not os.path.exists(folder_name_wf):\n",
        "    os.makedirs(folder_name_wf)\n",
        "\n",
        "# Iterate through the DataFrame\n",
        "for index, row in danceable_tracks.iterrows():\n",
        "    track_id = row['track_id']\n",
        "    preview_url = row['preview_url']\n",
        "\n",
        "    # Download the preview audio\n",
        "    response = requests.get(preview_url)\n",
        "\n",
        "    # Save the audio file temporarily\n",
        "    with open(\"temp_audio.mp3\", \"wb\") as file:\n",
        "        file.write(response.content)\n",
        "\n",
        "    # Load the audio file using torchaudio\n",
        "    waveform, sample_rate = torchaudio.load(\"temp_audio.mp3\")\n",
        "\n",
        "    # # Generate a spectrogram\n",
        "    # specgram = torchaudio.transforms.Spectrogram()(waveform)\n",
        "\n",
        "    # # Convert the spectrogram to dB scale\n",
        "    # specgram_db = torchaudio.transforms.AmplitudeToDB()(specgram)\n",
        "\n",
        "    # # Plot the spectrogram and save it as an image\n",
        "    # plt.figure(figsize=(10, 4))\n",
        "    # plt.imshow(specgram_db.log2()[0, :, :].numpy(), cmap='gray', aspect='auto', origin='lower')\n",
        "    # plt.colorbar(format='%+2.0f dB')\n",
        "    # plt.title(f'Spectrogram for track_id {track_id}')\n",
        "    # plt.savefig(f\"{folder_name}/{track_id}.png\")\n",
        "    # plt.close()\n",
        "\n",
        "    filename_wf = (f\"{folder_name_wf}/{track_id}.png\")\n",
        "    filename_sg = (f\"{folder_name_sg}/{track_id}.png\")\n",
        "\n",
        "    print_stats(waveform, sample_rate=sample_rate)\n",
        "    plot_waveform(waveform, sample_rate, save_path=filename_wf)\n",
        "    plot_specgram(waveform, sample_rate, save_path=filename_sg)\n",
        "    play_audio(waveform, sample_rate)\n",
        "\n",
        "# Delete the temporary audio file\n",
        "os.remove(\"temp_audio.mp3\")\n"
      ]
    },
    {
      "cell_type": "code",
      "execution_count": null,
      "metadata": {
        "id": "y8T_aho9ul1K"
      },
      "outputs": [],
      "source": [
        "!conda install -c conda-forge librosa --yes"
      ]
    },
    {
      "cell_type": "code",
      "execution_count": null,
      "metadata": {
        "id": "T498qyK2ul1L",
        "outputId": "3b14d78e-0b4b-4cf8-8674-5271ded30d21"
      },
      "outputs": [
        {
          "name": "stdout",
          "output_type": "stream",
          "text": [
            "Collecting pandas\n",
            "  Using cached pandas-1.5.3-cp310-cp310-macosx_10_9_x86_64.whl (12.0 MB)\n",
            "Requirement already satisfied: numpy>=1.21.0 in /Users/cheffbcookin/opt/anaconda3/envs/song/lib/python3.10/site-packages (from pandas) (1.23.5)\n",
            "Collecting pytz>=2020.1\n",
            "  Using cached pytz-2022.7.1-py2.py3-none-any.whl (499 kB)\n",
            "Requirement already satisfied: python-dateutil>=2.8.1 in /Users/cheffbcookin/opt/anaconda3/envs/song/lib/python3.10/site-packages (from pandas) (2.8.2)\n",
            "Requirement already satisfied: six>=1.5 in /Users/cheffbcookin/opt/anaconda3/envs/song/lib/python3.10/site-packages (from python-dateutil>=2.8.1->pandas) (1.16.0)\n",
            "Installing collected packages: pytz, pandas\n",
            "Successfully installed pandas-1.5.3 pytz-2022.7.1\n"
          ]
        }
      ],
      "source": [
        "!pip install pandas"
      ]
    },
    {
      "cell_type": "code",
      "execution_count": null,
      "metadata": {
        "id": "IkPF73Sdul1L"
      },
      "outputs": [],
      "source": []
    }
  ],
  "metadata": {
    "kernelspec": {
      "display_name": "dl_env",
      "language": "python",
      "name": "python3"
    },
    "language_info": {
      "codemirror_mode": {
        "name": "ipython",
        "version": 3
      },
      "file_extension": ".py",
      "mimetype": "text/x-python",
      "name": "python",
      "nbconvert_exporter": "python",
      "pygments_lexer": "ipython3",
      "version": "3.11.0"
    },
    "orig_nbformat": 4,
    "colab": {
      "provenance": []
    }
  },
  "nbformat": 4,
  "nbformat_minor": 0
}