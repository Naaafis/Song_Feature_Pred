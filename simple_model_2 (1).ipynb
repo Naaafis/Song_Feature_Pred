{
  "nbformat": 4,
  "nbformat_minor": 0,
  "metadata": {
    "colab": {
      "provenance": []
    },
    "kernelspec": {
      "name": "python3",
      "display_name": "Python 3"
    },
    "language_info": {
      "name": "python"
    }
  },
  "cells": [
    {
      "cell_type": "code",
      "execution_count": 1,
      "metadata": {
        "id": "u1LK-xy95iwq"
      },
      "outputs": [],
      "source": [
        "import os\n",
        "import requests\n",
        "import torch\n",
        "import torchaudio\n",
        "import torchvision\n",
        "import numpy as np\n",
        "import pandas as pd\n",
        "import matplotlib.pyplot as plt\n",
        "from IPython.display import Audio\n",
        "import librosa\n",
        "import io\n",
        "import torchaudio.transforms as T\n",
        "import torchaudio.functional as F\n",
        "import torch.fft as fft\n",
        "import random"
      ]
    },
    {
      "cell_type": "code",
      "source": [
        "from google.colab import drive\n",
        "drive.mount('/content/drive')"
      ],
      "metadata": {
        "id": "mnWQJjEuEHXR"
      },
      "execution_count": null,
      "outputs": []
    },
    {
      "cell_type": "code",
      "source": [
        "#housekeeping\n",
        "#csv_file = \"all_tracks-1.csv\"\n",
        "csv_file = \"tracks_features.csv\"\n",
        "all_tracks = pd.read_csv(csv_file)\n",
        "all_tracks = all_tracks.drop_duplicates(subset = ['id'])\n",
        "data_path = 'C://users/khala/Downloads/tracks' \n",
        "root_path = 'C://users/khala/Downloads/specs' \n",
        "#data_path = '/content/drive/MyDrive/all_tracks_sg' \n",
        "files = os.listdir(data_path)"
      ],
      "metadata": {
        "id": "j0NCUTSdXM15"
      },
      "execution_count": null,
      "outputs": []
    },
    {
      "cell_type": "code",
      "source": [
        "def plot_spectrogram(specgram):\n",
        "    plt.rcParams['savefig.pad_inches'] = 0\n",
        "    fig, axs = plt.subplots(1, 1)\n",
        "    im = axs.imshow(librosa.power_to_db(specgram), origin=\"lower\", aspect=\"auto\")\n",
        "    axs.axis('off')\n",
        "    #axs.set_frame_on(False)\n",
        "    #plt.box(False)\n",
        "    \n",
        "    plt.show()\n",
        "    "
      ],
      "metadata": {
        "id": "VuIr00KtmS6i"
      },
      "execution_count": null,
      "outputs": []
    },
    {
      "cell_type": "code",
      "source": [
        "def save_spec(specgram, filename):\n",
        "    \n",
        "    fig, axs = plt.subplots(1, 1)\n",
        "    im = axs.imshow(librosa.power_to_db(specgram), origin=\"lower\", aspect=\"auto\")\n",
        "    axs.axis('off')\n",
        "    plt.rcParams['savefig.pad_inches'] = 0\n",
        "    \n",
        "    plt.savefig(filename + '.png', bbox_inches='tight')\n",
        "    plt.close(fig)\n",
        "    \n",
        "    \n",
        "\n"
      ],
      "metadata": {
        "id": "VFyYLWv1dAXg"
      },
      "execution_count": null,
      "outputs": []
    },
    {
      "cell_type": "code",
      "source": [
        "division = 1\n",
        "freq_bins = 32\n",
        "power = 2.8\n",
        "N = len(files)\n",
        "data_size = N\n",
        "c = random.choices(range(N), k=data_size)\n",
        "\n",
        "def tempo_spec(waveform, sample_rate, tempo, division, freq_bins):\n",
        "  if tempo == 0:\n",
        "    return T.Spectrogram(power=2.8)(waveform[0])\n",
        "  n_fft = 2 * freq_bins - 1\n",
        "  win_length = None\n",
        "  hop_length = int(60/tempo * division * sample_rate)\n",
        "  specgram = T.Spectrogram(\n",
        "    n_fft=n_fft,\n",
        "    win_length=win_length,\n",
        "    hop_length=hop_length,\n",
        "    center=True,\n",
        "    pad_mode=\"reflect\",\n",
        "    power=power,\n",
        "  )\n",
        "  return specgram(waveform)[0]  \n",
        " \n",
        "dataset = []\n",
        "re_rate = 32000\n",
        "for i in c:\n",
        "  filename = files[i][0:len(files[0])-10]\n",
        "  features = all_tracks[all_tracks['id'] == filename][['danceability', 'energy', 'loudness', 'speechiness', 'acousticness', 'instrumentalness', 'liveness', 'valence', 'tempo', 'id']]\n",
        "  waveform, sample_rate = torchaudio.load(data_path + '/' + files[i])\n",
        "  waveform = torch.mean(waveform, dim=0, keepdim=True)\n",
        "  #waveform = waveform[0][0:int(waveform.shape[1]/2)]\n",
        "  #waveform = torch.unsqueeze(waveform, 0)\n",
        "  resampler = T.Resample(sample_rate, re_rate, dtype=waveform.dtype)\n",
        "  waveform = resampler(waveform)\n",
        "  #dataset.append([waveform, re_rate, features])\n",
        "\n",
        "  save_spec(tempo_spec(waveform, re_rate, features.tempo.item(), division, freq_bins), root_path + '/' + features.id.item())\n",
        "\n",
        "#for i in range(data_size):\n",
        "  #waveforms = tempo_split(dataset[i][0], dataset[i][1], dataset[i][2].tempo, division)\n",
        "  #print(tempo_spec(dataset[i][0], dataset[i][1], dataset[i][2].tempo, division, freq_bins).shape)\n",
        "  #plot_spectrogram(T.Spectrogram(power=power)(dataset[i][0][0]))\n",
        "  #plot_spectrogram(tempo_spec(dataset[i][0], dataset[i][1], dataset[i][2].tempo, division, freq_bins))\n",
        "  #save_spec(tempo_spec(waveform, re_rate, features.tempo, division, freq_bins), root_path + '/' + features.id.item())"
      ],
      "metadata": {
        "id": "iXMa1JQtwZcI"
      },
      "execution_count": null,
      "outputs": []
    },
    {
      "cell_type": "code",
      "source": [
        "#image i/o setup\n",
        "from pathlib import Path\n",
        "import torchvision.transforms as T\n",
        "from torchvision.io import read_image\n",
        "\n",
        "\n",
        "plt.rcParams[\"savefig.bbox\"] = 'tight'\n",
        "torch.manual_seed(1)\n",
        "\n",
        "\n",
        "def show(imgs):\n",
        "    fix, axs = plt.subplots(ncols=len(imgs), squeeze=False)\n",
        "    for i, img in enumerate(imgs):\n",
        "        img = T.ToPILImage()(img.to('cpu'))\n",
        "        axs[0, i].imshow(np.asarray(img))\n",
        "        axs[0, i].set(xticklabels=[], yticklabels=[], xticks=[], yticks=[])"
      ],
      "metadata": {
        "id": "ogJU3ed9syk6"
      },
      "execution_count": 2,
      "outputs": []
    },
    {
      "cell_type": "code",
      "source": [
        "from torch.utils.data import Dataset, DataLoader"
      ],
      "metadata": {
        "id": "wxPSGqVTtGCq"
      },
      "execution_count": null,
      "outputs": []
    },
    {
      "cell_type": "code",
      "source": [
        "trainloader = torch.utils.data.DataLoader(dataset, batch_size=1,\n",
        "                                            shuffle=True, num_workers=0)"
      ],
      "metadata": {
        "id": "b5ZLAcybtG-u"
      },
      "execution_count": null,
      "outputs": []
    },
    {
      "cell_type": "code",
      "source": [
        "#housekeeping\n",
        "#csv_file = \"all_tracks-1.csv\"\n",
        "csv_file = \"tracks_features.csv\"\n",
        "all_tracks = pd.read_csv(csv_file)\n",
        "all_tracks = all_tracks.drop_duplicates(subset = ['id'])\n",
        "data_path = 'C://users/khala/Downloads/tracks' \n",
        "root_path = 'C://users/khala/Downloads/specs' \n",
        "#data_path = '/content/drive/MyDrive/all_tracks_sg' \n",
        "images = os.listdir(root_path)"
      ],
      "metadata": {
        "id": "AZoPScTrzKA9"
      },
      "execution_count": 3,
      "outputs": []
    },
    {
      "cell_type": "code",
      "source": [
        "#normalize images\n",
        "import torchvision.transforms as transforms\n",
        "transform = transforms.Normalize((0.5, 0.5, 0.5, 0.5), (0.5, 0.5, 0.5, 0.5))"
      ],
      "metadata": {
        "id": "jeItzk1twwT9"
      },
      "execution_count": 4,
      "outputs": []
    },
    {
      "cell_type": "code",
      "source": [
        "N = len(images)\n",
        "test_size = int(0.2 * N)\n",
        "train_size = N - test_size\n",
        "c = random.choices(range(N), k=N)\n",
        "\n",
        "#setup train and test set: sizes 609 and 100\n",
        "labels_train = torch.zeros(train_size)\n",
        "images_train = []\n",
        "\n",
        "image_tens_train = torch.zeros(train_size, 4, 32, 32) #the tensor containing all train image\n",
        "\n",
        "for i in range(train_size):\n",
        "  labels_train[i] = all_tracks[all_tracks['id'] == images[i][0:len(images[1])-4]].danceability.item() #labels: danceability value from csv file\n",
        "  images_train_temp = transform(read_image(root_path + '/' + images[i])/255)\n",
        "  image_tens_train[i,:,:,:] = torchvision.transforms.functional.resize(images_train_temp, (32, 32))\n"
      ],
      "metadata": {
        "id": "T3aDQCY4aG7V"
      },
      "execution_count": 5,
      "outputs": []
    },
    {
      "cell_type": "code",
      "source": [
        "for i in range(train_size):\n",
        "  labels_train[i] = all_tracks[all_tracks['id'] == images[i][0:len(images[1])-4]].danceability.item() #labels: danceability value from csv file"
      ],
      "metadata": {
        "id": "9Ap8HjkrfwRQ"
      },
      "execution_count": 100,
      "outputs": []
    },
    {
      "cell_type": "code",
      "source": [
        "show([image_tens_train[1]])"
      ],
      "metadata": {
        "colab": {
          "base_uri": "https://localhost:8080/",
          "height": 411
        },
        "id": "Mbqzh9HwWQfY",
        "outputId": "d9c78cad-89f0-4da0-9853-4aee20247274"
      },
      "execution_count": 27,
      "outputs": [
        {
          "output_type": "display_data",
          "data": {
            "text/plain": [
              "<Figure size 640x480 with 1 Axes>"
            ],
            "image/png": "[encoded data removed]"
          },
          "metadata": {}
        }
      ]
    },
    {
      "cell_type": "code",
      "source": [
        "for i in range(train_size):\n",
        "  if labels_train[i] == 0:\n",
        "    labels_train[i] = 0.0000001"
      ],
      "metadata": {
        "id": "2UH7PRE1dBj8"
      },
      "execution_count": 32,
      "outputs": []
    },
    {
      "cell_type": "code",
      "source": [
        "labels_train = torch.logit(labels_train).cuda()"
      ],
      "metadata": {
        "id": "scASyFO3eP1E"
      },
      "execution_count": 39,
      "outputs": []
    },
    {
      "cell_type": "code",
      "source": [
        "labels_test = torch.zeros(test_size)\n",
        "images_test = []\n",
        "image_tens_test = torch.zeros(test_size, 4, 32, 32)\n",
        "\n",
        "for i in range(test_size):\n",
        "  labels_test[i] = all_tracks[all_tracks['id'] == images[i+train_size][0:len(images[1])-4]].danceability.item()\n",
        "  images_test_temp = transform(read_image(root_path + '/' + images[i+train_size])/255)\n",
        "  image_tens_test[i,:,:,:] = torchvision.transforms.functional.resize(images_test_temp, (32, 32))\n",
        "  "
      ],
      "metadata": {
        "id": "VHEmiqF2YO6W"
      },
      "execution_count": 33,
      "outputs": []
    },
    {
      "cell_type": "code",
      "source": [
        "torch.save(image_tens_train, 'C://users/khala/train_tensor.pth')\n",
        "torch.save(labels_train, 'C://users/khala/train_labels.pth')\n",
        "torch.save(image_tens_test, 'C://users/khala/test_tensor.pth')\n",
        "torch.save(labels_test, 'C://users/khala/test_labels.pth')"
      ],
      "metadata": {
        "id": "QD781Nm1XJQD"
      },
      "execution_count": 29,
      "outputs": []
    },
    {
      "cell_type": "code",
      "source": [
        "image_tens_train = image_tens_train.cuda()"
      ],
      "metadata": {
        "id": "Ci6VuraVYuZY"
      },
      "execution_count": 43,
      "outputs": []
    },
    {
      "cell_type": "code",
      "source": [
        "import torch.nn as nn\n",
        "import torch.nn.functional as F\n",
        "\n",
        "class Net(nn.Module):\n",
        "    def __init__(self):\n",
        "        super(Net, self).__init__()\n",
        "        self.conv1 = nn.Conv2d(4, 6, 5)\n",
        "        self.pool = nn.MaxPool2d(2, 2)\n",
        "        self.conv2 = nn.Conv2d(6, 16, 5)\n",
        "        self.fc1 = nn.Linear(16 * 5 * 5, 120)\n",
        "        self.fc2 = nn.Linear(120, 32)\n",
        "        self.fc3 = nn.Linear(32, 1)       \n",
        "        \n",
        "    def forward(self, x):\n",
        "        x = self.pool(F.relu(self.conv1(x)))\n",
        "        x = self.pool(F.relu(self.conv2(x)))\n",
        "        x = x.view(-1, 16 * 5 * 5)   # flatten features\n",
        "\n",
        "        x = F.relu(self.fc1(x))\n",
        "        x = F.relu(self.fc2(x))\n",
        "        x = self.fc3(x)\n",
        "        \n",
        "        return x\n",
        "\n",
        "net = Net()\n",
        "net.cuda()"
      ],
      "metadata": {
        "id": "II8K1M0Jsqub",
        "colab": {
          "base_uri": "https://localhost:8080/"
        },
        "outputId": "73ca8a05-972b-4bcc-e7cc-bc07cc149445"
      },
      "execution_count": 50,
      "outputs": [
        {
          "output_type": "execute_result",
          "data": {
            "text/plain": [
              "Net(\n",
              "  (conv1): Conv2d(4, 6, kernel_size=(5, 5), stride=(1, 1))\n",
              "  (pool): MaxPool2d(kernel_size=2, stride=2, padding=0, dilation=1, ceil_mode=False)\n",
              "  (conv2): Conv2d(6, 16, kernel_size=(5, 5), stride=(1, 1))\n",
              "  (fc1): Linear(in_features=400, out_features=120, bias=True)\n",
              "  (fc2): Linear(in_features=120, out_features=32, bias=True)\n",
              "  (fc3): Linear(in_features=32, out_features=1, bias=True)\n",
              ")"
            ]
          },
          "metadata": {},
          "execution_count": 50
        }
      ]
    },
    {
      "cell_type": "code",
      "source": [
        "import torch.optim as optim\n",
        " \n",
        "criterion = nn.MSELoss() \n",
        "optimizer = optim.Adam(net.parameters(), lr=0.000004)"
      ],
      "metadata": {
        "id": "7NAG-W1iwKkW"
      },
      "execution_count": 96,
      "outputs": []
    },
    {
      "cell_type": "code",
      "source": [
        "for epoch in range(10000):  # loop over the dataset multiple times (here we are not using minibatches)\n",
        "  optimizer.zero_grad()\n",
        "  output = net(image_tens_train).squeeze()\n",
        " \n",
        "  loss = criterion(output, labels_train)\n",
        "  loss.backward()\n",
        "  optimizer.step()\n",
        "  loss_running = loss.item()\n",
        "  print(loss_running)\n"
      ],
      "metadata": {
        "id": "K73n5CLUwTVa"
      },
      "execution_count": null,
      "outputs": []
    },
    {
      "cell_type": "code",
      "source": [
        "net2 = net.cpu()"
      ],
      "metadata": {
        "id": "1m0E7db4Z9FO"
      },
      "execution_count": 98,
      "outputs": []
    },
    {
      "cell_type": "code",
      "source": [
        "output = torch.zeros(test_size)\n",
        "\n",
        "import matplotlib.lines as lines\n",
        "import matplotlib.figure\n",
        "\n",
        "for i in range(test_size):\n",
        "  output[i] = torch.sigmoid(net2(image_tens_test[i,:,:,:])) \n",
        "\n",
        "plot = plt.scatter(labels_test, output.detach().numpy())\n",
        "plt.show()"
      ],
      "metadata": {
        "colab": {
          "base_uri": "https://localhost:8080/",
          "height": 430
        },
        "id": "ZriiRjwOH2ID",
        "outputId": "d70f555b-b632-4da1-f675-875d699e52d8"
      },
      "execution_count": 102,
      "outputs": [
        {
          "output_type": "display_data",
          "data": {
            "text/plain": [
              "<Figure size 640x480 with 1 Axes>"
            ],
            "image/png": "[encoded data removed]"
          },
          "metadata": {}
        }
      ]
    },
    {
      "cell_type": "code",
      "source": [
        "def tempo_split(waveform, sample_rate, tempo, division):\n",
        "  t = 60/tempo * division\n",
        "  num_channels, num_frames = waveform.shape\n",
        "  frame_size = int(t * sample_rate)\n",
        "  num_windows = int(num_frames/frame_size)\n",
        "  if(num_windows == 0):\n",
        "    return waveform\n",
        "  waveform_split = torch.zeros(num_windows, frame_size)\n",
        "  for i in range(num_windows):\n",
        "    waveform_split[i] = waveform[0][i*frame_size:(i+1)*frame_size]\n",
        "  return waveform_split"
      ],
      "metadata": {
        "id": "BqDzYn4oXsfK"
      },
      "execution_count": null,
      "outputs": []
    }
  ]
}