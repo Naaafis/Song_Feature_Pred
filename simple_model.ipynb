{
  "nbformat": 4,
  "nbformat_minor": 0,
  "metadata": {
    "colab": {
      "provenance": []
    },
    "kernelspec": {
      "name": "python3",
      "display_name": "Python 3"
    },
    "language_info": {
      "name": "python"
    }
  },
  "cells": [
    {
      "cell_type": "code",
      "execution_count": 2,
      "metadata": {
        "id": "u1LK-xy95iwq"
      },
      "outputs": [],
      "source": [
        "import os\n",
        "import requests\n",
        "import torch\n",
        "import torchaudio\n",
        "import torchvision\n",
        "import numpy as np\n",
        "import pandas as pd\n",
        "import matplotlib.pyplot as plt\n",
        "import librosa"
      ]
    },
    {
      "cell_type": "code",
      "source": [
        "from google.colab import drive\n",
        "drive.mount('/content/drive')"
      ],
      "metadata": {
        "colab": {
          "base_uri": "https://localhost:8080/"
        },
        "id": "mnWQJjEuEHXR",
        "outputId": "8086ba89-334f-4c42-de54-d9ad1eeeb7c7"
      },
      "execution_count": 4,
      "outputs": [
        {
          "output_type": "stream",
          "name": "stdout",
          "text": [
            "Drive already mounted at /content/drive; to attempt to forcibly remount, call drive.mount(\"/content/drive\", force_remount=True).\n"
          ]
        }
      ]
    },
    {
      "cell_type": "code",
      "source": [
        "#housekeeping\n",
        "csv_file = \"all_tracks-1.csv\"\n",
        "all_tracks = pd.read_csv(csv_file)\n",
        "#data_path = 'C://users/khala/all_tracks_sg' \n",
        "data_path = '/content/drive/MyDrive/all_tracks_sg' \n",
        "files = os.listdir(data_path)"
      ],
      "metadata": {
        "id": "j0NCUTSdXM15"
      },
      "execution_count": 5,
      "outputs": []
    },
    {
      "cell_type": "code",
      "source": [
        "#image i/o setup\n",
        "from pathlib import Path\n",
        "import torchvision.transforms as T\n",
        "from torchvision.io import read_image\n",
        "\n",
        "\n",
        "plt.rcParams[\"savefig.bbox\"] = 'tight'\n",
        "torch.manual_seed(1)\n",
        "\n",
        "\n",
        "def show(imgs):\n",
        "    fix, axs = plt.subplots(ncols=len(imgs), squeeze=False)\n",
        "    for i, img in enumerate(imgs):\n",
        "        img = T.ToPILImage()(img.to('cpu'))\n",
        "        axs[0, i].imshow(np.asarray(img))\n",
        "        axs[0, i].set(xticklabels=[], yticklabels=[], xticks=[], yticks=[])"
      ],
      "metadata": {
        "id": "ogJU3ed9syk6"
      },
      "execution_count": 6,
      "outputs": []
    },
    {
      "cell_type": "code",
      "source": [
        "#normalize images\n",
        "import torchvision.transforms as transforms\n",
        "transform = transforms.Normalize((0.5, 0.5, 0.5, 0.5), (0.5, 0.5, 0.5, 0.5))"
      ],
      "metadata": {
        "id": "jeItzk1twwT9"
      },
      "execution_count": 7,
      "outputs": []
    },
    {
      "cell_type": "code",
      "source": [
        "#setup train and test set: sizes 609 and 100\n",
        "labels_train = torch.zeros(len(files)-100)\n",
        "images_train = []\n",
        "\n",
        "for i in range(len(files)-100):\n",
        "  labels_train[i] = all_tracks[all_tracks['track_id'] == files[i][0:len(files[1])-4]].danceability.item() #labels: danceability value from csv file\n",
        "  images_train.append(transform(read_image(data_path + '/' + files[i])/255))\n",
        "\n",
        "image_tens_train = torch.zeros(len(files)-100, 4, 32, 32) #the tensor containing all train image\n",
        "for i in range(len(files)-100):\n",
        "  image_tens_train[i,:,:,:] = torchvision.transforms.functional.resize(images_train[i], (32, 32))\n",
        "\n",
        "labels_test = torch.zeros(100)\n",
        "images_test = []\n",
        "\n",
        "for i in range(100):\n",
        "  labels_test[i] = all_tracks[all_tracks['track_id'] == files[i+len(files)-100][0:len(files[1])-4]].danceability.item()\n",
        "  images_test.append(transform(read_image(data_path + '/' + files[i+len(files)-100])/255))\n",
        "\n",
        "image_tens_test = torch.zeros(100, 4, 32, 32) #tensor containing all test image\n",
        "for i in range(100):\n",
        "  image_tens_test[i,:,:,:] = torchvision.transforms.functional.resize(images_test[i], (32, 32))"
      ],
      "metadata": {
        "id": "T3aDQCY4aG7V"
      },
      "execution_count": 8,
      "outputs": []
    },
    {
      "cell_type": "code",
      "source": [
        "show([image_tens_train[1,:,:,:]])"
      ],
      "metadata": {
        "colab": {
          "base_uri": "https://localhost:8080/",
          "height": 406
        },
        "id": "Da7tn4b4PjS2",
        "outputId": "63f9a97b-c97c-4b97-e9f5-9213c42958dc"
      },
      "execution_count": 9,
      "outputs": [
        {
          "output_type": "display_data",
          "data": {
            "text/plain": [
              "<Figure size 640x480 with 1 Axes>"
            ],
            "image/png": "[encoded data removed]"
          },
          "metadata": {}
        }
      ]
    },
    {
      "cell_type": "code",
      "source": [
        "import torch.nn as nn\n",
        "import torch.nn.functional as F\n",
        "\n",
        "class Net(nn.Module):\n",
        "    def __init__(self):\n",
        "        super(Net, self).__init__()\n",
        "        self.conv1 = nn.Conv2d(4, 6, 5)\n",
        "        self.pool = nn.MaxPool2d(2, 2)\n",
        "        self.conv2 = nn.Conv2d(6, 16, 5)\n",
        "        self.fc1 = nn.Linear(16 * 5 * 5, 120)\n",
        "        self.fc2 = nn.Linear(120, 32)\n",
        "        self.fc3 = nn.Linear(32, 1)       \n",
        "        \n",
        "    def forward(self, x):\n",
        "        x = self.pool(F.relu(self.conv1(x)))\n",
        "        x = self.pool(F.relu(self.conv2(x)))\n",
        "        x = x.view(-1, 16 * 5 * 5)   # flatten features\n",
        "\n",
        "        x = F.relu(self.fc1(x))\n",
        "        x = F.relu(self.fc2(x))\n",
        "        x = self.fc3(x)\n",
        "        \n",
        "        return x\n",
        "\n",
        "net = Net()"
      ],
      "metadata": {
        "id": "II8K1M0Jsqub"
      },
      "execution_count": 10,
      "outputs": []
    },
    {
      "cell_type": "code",
      "source": [
        "import torch.optim as optim\n",
        "\n",
        "criterion = nn.MSELoss() \n",
        "optimizer = optim.SGD(net.parameters(), lr=0.001, momentum=0.9)"
      ],
      "metadata": {
        "id": "7NAG-W1iwKkW"
      },
      "execution_count": 11,
      "outputs": []
    },
    {
      "cell_type": "code",
      "source": [
        "for epoch in range(100):  # loop over the dataset multiple times (here we are not using minibatches)\n",
        "  optimizer.zero_grad()\n",
        "  output = net(image_tens_train).squeeze()\n",
        "  loss = criterion(output, labels_train.logit())\n",
        "  loss.backward()\n",
        "  optimizer.step()\n",
        "  loss_running = loss.item()\n",
        "  print(loss_running)\n"
      ],
      "metadata": {
        "id": "K73n5CLUwTVa",
        "colab": {
          "base_uri": "https://localhost:8080/"
        },
        "outputId": "9e35cba4-ed5b-4292-a170-b557200591f5"
      },
      "execution_count": 12,
      "outputs": [
        {
          "output_type": "stream",
          "name": "stdout",
          "text": [
            "1.8600120544433594\n",
            "1.8507400751113892\n",
            "1.833173394203186\n",
            "1.8083686828613281\n",
            "1.7775263786315918\n",
            "1.7418789863586426\n",
            "1.702674388885498\n",
            "1.661122441291809\n",
            "1.617910385131836\n",
            "1.5733473300933838\n",
            "1.5277807712554932\n",
            "1.4815857410430908\n",
            "1.4352753162384033\n",
            "1.3895542621612549\n",
            "1.346811294555664\n",
            "1.3057996034622192\n",
            "1.265262246131897\n",
            "1.2252100706100464\n",
            "1.1857727766036987\n",
            "1.1471015214920044\n",
            "1.1092609167099\n",
            "1.0721540451049805\n",
            "1.035779595375061\n",
            "1.0002923011779785\n",
            "0.9660249948501587\n",
            "0.9326919317245483\n",
            "0.9001033902168274\n",
            "0.8682620525360107\n",
            "0.8371917605400085\n",
            "0.8070309162139893\n",
            "0.7778558135032654\n",
            "0.7496076226234436\n",
            "0.7223302125930786\n",
            "0.6961422562599182\n",
            "0.6711813807487488\n",
            "0.6475997567176819\n",
            "0.6255837678909302\n",
            "0.6053553223609924\n",
            "0.5871379375457764\n",
            "0.5711408257484436\n",
            "0.5575782656669617\n",
            "0.5466368794441223\n",
            "0.5384488105773926\n",
            "0.5330469608306885\n",
            "0.5303230881690979\n",
            "0.5300055146217346\n",
            "0.5316569209098816\n",
            "0.5346928834915161\n",
            "0.5384336709976196\n",
            "0.5422008633613586\n",
            "0.5453987121582031\n",
            "0.5475949048995972\n",
            "0.5485687255859375\n",
            "0.548306405544281\n",
            "0.5469677448272705\n",
            "0.5448493361473083\n",
            "0.5422733426094055\n",
            "0.5395436882972717\n",
            "0.5369196534156799\n",
            "0.5346031188964844\n",
            "0.5327016115188599\n",
            "0.5312560796737671\n",
            "0.5302547812461853\n",
            "0.5296512842178345\n",
            "0.5293771028518677\n",
            "0.5293539762496948\n",
            "0.5295056700706482\n",
            "0.5297624468803406\n",
            "0.5300664901733398\n",
            "0.5303710699081421\n",
            "0.5306417346000671\n",
            "0.5308542847633362\n",
            "0.5309956073760986\n",
            "0.5310607552528381\n",
            "0.5310513377189636\n",
            "0.5309740900993347\n",
            "0.5308399200439453\n",
            "0.5306615829467773\n",
            "0.5304532647132874\n",
            "0.5302286148071289\n",
            "0.5300008058547974\n",
            "0.5297812223434448\n",
            "0.529579222202301\n",
            "0.5294013023376465\n",
            "0.5292518734931946\n",
            "0.529132604598999\n",
            "0.529043436050415\n",
            "0.5289818644523621\n",
            "0.528944730758667\n",
            "0.528927206993103\n",
            "0.5289242267608643\n",
            "0.528930127620697\n",
            "0.5289402604103088\n",
            "0.5289507508277893\n",
            "0.5289578437805176\n",
            "0.5289591550827026\n",
            "0.5289539098739624\n",
            "0.5289415121078491\n",
            "0.5289219617843628\n",
            "0.5288963317871094\n"
          ]
        }
      ]
    },
    {
      "cell_type": "code",
      "source": [
        "acc = 0\n",
        "for i in range(100):\n",
        "  output = torch.sigmoid(net(image_tens_test[i,:,:,:])) > 0.6\n",
        "  label_temp = labels_test[i] > 0.6\n",
        "  if (output == label_temp):\n",
        "    acc += 1\n",
        "  \n",
        "acc = acc/100\n",
        "acc"
      ],
      "metadata": {
        "colab": {
          "base_uri": "https://localhost:8080/"
        },
        "id": "ZriiRjwOH2ID",
        "outputId": "39a0920e-b7f4-407a-9343-0f3b80486fb4"
      },
      "execution_count": 14,
      "outputs": [
        {
          "output_type": "execute_result",
          "data": {
            "text/plain": [
              "0.83"
            ]
          },
          "metadata": {},
          "execution_count": 14
        }
      ]
    }
  ]
}