{
  "cells": [
    {
      "cell_type": "markdown",
      "metadata": {
        "id": "NHZtUcGcJmzE"
      },
      "source": [
        "## MFCC Model to predict song features\n",
        "\n",
        "We will train individual models with MFCC of images as input into CNN model to predict Danceability, instrumentalness, speechiness, Energy, acousticness. There will be individual models for each of these labels to begin with, and we will work towards combining the outputs into one model."
      ]
    },
    {
      "cell_type": "markdown",
      "metadata": {
        "id": "Q9iIjgJVKjdX"
      },
      "source": [
        "### Import Labels and Data"
      ]
    },
    {
      "cell_type": "code",
      "execution_count": null,
      "metadata": {
        "id": "6qyqz1m6FmZk"
      },
      "outputs": [],
      "source": [
        "import os\n",
        "import requests\n",
        "import torch\n",
        "\n",
        "import torchaudio\n",
        "import torchaudio.functional as F\n",
        "import torchaudio.transforms as T\n",
        "\n",
        "import numpy as np\n",
        "import pandas as pd\n",
        "import matplotlib.pyplot as plt"
      ]
    },
    {
      "cell_type": "code",
      "execution_count": null,
      "metadata": {
        "colab": {
          "base_uri": "https://localhost:8080/"
        },
        "id": "hq7UEKXFFvah",
        "outputId": "2b4298c0-b5ed-4ade-9532-91f0887f8990"
      },
      "outputs": [
        {
          "name": "stdout",
          "output_type": "stream",
          "text": [
            "Mounted at /content/drive\n"
          ]
        }
      ],
      "source": [
        "from google.colab import drive\n",
        "drive.mount('/content/drive', force_remount=True)"
      ]
    },
    {
      "cell_type": "code",
      "execution_count": null,
      "metadata": {
        "id": "eAZV9ZwFGgJu"
      },
      "outputs": [],
      "source": [
        "csv_file = \"/content/drive/MyDrive/tracks_features.csv\"\n",
        "all_tracks = pd.read_csv(csv_file)"
      ]
    },
    {
      "cell_type": "code",
      "execution_count": null,
      "metadata": {
        "id": "1QIPDqE9JNE4"
      },
      "outputs": [],
      "source": [
        "def name_of_file(track_id):\n",
        "  filename = f\"/content/drive/MyDrive/tracks_features_audio/{track_id}_audio.mp3\"\n",
        "  return filename"
      ]
    },
    {
      "cell_type": "code",
      "execution_count": null,
      "metadata": {
        "colab": {
          "base_uri": "https://localhost:8080/"
        },
        "id": "BtwKm1A-JSUN",
        "outputId": "349704b8-54d3-45ee-e6af-485856108d0d"
      },
      "outputs": [
        {
          "name": "stdout",
          "output_type": "stream",
          "text": [
            "1xK59OXxi2TAAAbmZK0kBL\n",
            "finished 21324\n"
          ]
        }
      ],
      "source": [
        "# Iterate through the DataFrame\n",
        "count = 0\n",
        "for index, row in all_tracks.iterrows():\n",
        "    track_id = row['id']\n",
        "    filepath = name_of_file(track_id)\n",
        "    if not os.path.exists(filepath):\n",
        "      print(track_id)\n",
        "    else:\n",
        "      count += 1\n",
        "print(f\"finished {count}\")"
      ]
    },
    {
      "cell_type": "markdown",
      "metadata": {
        "id": "zz5rszOUKzGG"
      },
      "source": [
        "### Load audio and practice converting them to MFCCs\n",
        "\n",
        "Source: https://pytorch.org/audio/stable/tutorials/audio_feature_extractions_tutorial.html"
      ]
    },
    {
      "cell_type": "markdown",
      "metadata": {
        "id": "Dk-BWDH7Riun"
      },
      "source": [
        "#### Testing with just waveform \n",
        "\n",
        "Ensure we have variety in audio samples being selected"
      ]
    },
    {
      "cell_type": "code",
      "execution_count": null,
      "metadata": {
        "id": "373pR4ODPYWa"
      },
      "outputs": [],
      "source": [
        "def plot_waveform(waveform, sr, title=\"Waveform\"):\n",
        "    waveform = waveform.numpy()\n",
        "\n",
        "    num_channels, num_frames = waveform.shape\n",
        "    time_axis = torch.arange(0, num_frames) / sr\n",
        "\n",
        "    figure, axes = plt.subplots(num_channels, 1)\n",
        "    axes.plot(time_axis, waveform[0], linewidth=1)\n",
        "    axes.grid(True)\n",
        "    figure.suptitle(title)\n",
        "    plt.show(block=False)"
      ]
    },
    {
      "cell_type": "code",
      "execution_count": null,
      "metadata": {
        "colab": {
          "base_uri": "https://localhost:8080/"
        },
        "id": "HizcOEztJjRb",
        "outputId": "5f721d25-5b8d-49bb-992b-56d6e7054407"
      },
      "outputs": [
        {
          "name": "stdout",
          "output_type": "stream",
          "text": [
            "1xK59OXxi2TAAAbmZK0kBL\n",
            "Sample rate for 1xK59OXxi2TAAAbmZK0kBL: 44100\n",
            "4nrPB8O7Y7wsOCJdgXkthe\n",
            "Sample rate for 4nrPB8O7Y7wsOCJdgXkthe: 44100\n",
            "3azJifCSqg9fRij2yKIbWz\n",
            "Sample rate for 3azJifCSqg9fRij2yKIbWz: 44100\n",
            "78Sw5GDo6AlGwTwanjXbGh\n",
            "Sample rate for 78Sw5GDo6AlGwTwanjXbGh: 44100\n",
            "1Y3LN4zO1Edc2EluIoSPJN\n",
            "Sample rate for 1Y3LN4zO1Edc2EluIoSPJN: 44100\n"
          ]
        }
      ],
      "source": [
        "for index, row in all_tracks.head().iterrows():\n",
        "    track_id = row['id']\n",
        "    filepath = name_of_file(track_id)\n",
        "    print(track_id)\n",
        "    WAVEFORM, SAMPLE_RATE = torchaudio.load(filepath)\n",
        "    waveform_mono = torch.mean(WAVEFORM, dim = 0, keepdim=True)\n",
        "    print(f\"Sample rate for {track_id}:\", SAMPLE_RATE)\n",
        "    #plot_waveform(waveform_mono, SAMPLE_RATE)\n"
      ]
    },
    {
      "cell_type": "markdown",
      "metadata": {
        "id": "Y-E-sVIpkjvC"
      },
      "source": [
        "We were originally just visualizing the differnt waveforms, now we're just making sure that all the audio files have the same sample_rate"
      ]
    },
    {
      "cell_type": "markdown",
      "metadata": {
        "id": "R73v32cGRzkB"
      },
      "source": [
        "### Lets create some MFCCs\n",
        "\n",
        "Brief explanation of what is going on for the following, since I had trouble understanding MFCCs to begin with. Be warned that this explanation was provided by GPT-4 to answer the following prompt: \n",
        "\n",
        "\"can you explain what these 5 values actually are and what an mfcc transform even does with an audio waveform. I know a waveform is basically plotting what the audio looks like where the amplitudes represent the sounds the human ear hears and the amount of those amplitude changes per second is the sample rate. I guess continue on with this explanation:\n",
        "\n",
        "n_fft = 2048\n",
        "\n",
        "win_length = None\n",
        "\n",
        "hop_length = 1024\n",
        "\n",
        "n_mels = 256\n",
        "\n",
        "n_mfcc = 128\"\n",
        "\n",
        "These values are taken directly from the PyTorch tutorial for audio feature extraction\n",
        "\n",
        "#### GPT-4:\n",
        "\n",
        "MFCC stands for Mel-Frequency Cepstral Coefficients, and it is a widely-used feature extraction technique for audio signals, especially in speech and music processing. The main idea behind MFCCs is to represent the spectral shape of an audio signal in a compact and informative way that can be used for various tasks such as speech recognition, speaker identification, or music genre classification.\n",
        "\n",
        "Here's a brief explanation of the values you mentioned:\n",
        "\n",
        "1. n_fft (Number of FFT points): This value determines the number of points used for the Fast Fourier Transform (FFT). FFT is an algorithm that transforms the audio waveform from the time domain into the frequency domain. It essentially calculates the discrete Fourier transform (DFT) of a sequence, enabling us to analyze the frequency components of the audio signal. In this case, 2048 points are used for the FFT.\n",
        "2. win_length (Window length): This value determines the size of the window applied to the audio signal before performing the FFT. If not specified (None), it usually defaults to the same value as n_fft. Window functions, such as the Hanning or Hamming window, are applied to mitigate the effect of spectral leakage caused by the finite length of the audio signal.\n",
        "3. hop_length (Hop length): This value determines the number of samples between successive frames or windows in the audio signal. In this case, 1024 samples separate each frame. Overlapping frames help ensure that we capture the information between windows and provide a smoother representation of the audio signal.\n",
        "4. n_mels (Number of Mel bands): The Mel scale is a perceptual scale that approximates the human ear's response to different frequencies. After performing the FFT and obtaining the spectrogram, the frequency axis is transformed into the Mel scale using a set of triangular filters. The number of Mel bands (256 in this case) determines the resolution of the Mel-scaled spectrogram, with a higher number of bands providing better frequency resolution.\n",
        "5. n_mfcc (Number of MFCCs): After obtaining the Mel-scaled spectrogram, the Discrete Cosine Transform (DCT) is applied to the log power of each Mel band. The resulting coefficients are the MFCCs, which are a compact representation of the spectral shape of the audio signal. The number of MFCCs (128 in this case) determines the dimensionality of the feature vector. Generally, the lower-order MFCCs capture the coarse spectral shape, while higher-order MFCCs capture finer spectral details.\n",
        "In summary, the MFCC transform takes an audio waveform, divides it into overlapping frames, calculates the frequency components using the FFT, and then converts the frequency representation into a more perceptually meaningful representation using the Mel scale. Finally, the MFCCs are calculated by applying the DCT to the log power of the Mel-scaled spectrogram, resulting in a compact representation of the spectral shape of the audio signal."
      ]
    },
    {
      "cell_type": "code",
      "execution_count": null,
      "metadata": {
        "id": "9BOyxG2pSfGa"
      },
      "outputs": [],
      "source": [
        "import librosa\n",
        "\n",
        "def plot_spectrogram(specgram, title=None, ylabel=\"freq_bin\"):\n",
        "    fig, axs = plt.subplots(1, 1, figsize=(15, 5))\n",
        "    axs.set_title(title or \"Spectrogram (db)\")\n",
        "    axs.set_ylabel(ylabel)\n",
        "    axs.set_xlabel(\"frame\")\n",
        "    im = axs.imshow(librosa.power_to_db(specgram), origin=\"lower\", aspect=\"auto\")\n",
        "    fig.colorbar(im, ax=axs)\n",
        "    plt.show(block=False)"
      ]
    },
    {
      "cell_type": "code",
      "execution_count": null,
      "metadata": {
        "id": "8kRkAdDNR3JS"
      },
      "outputs": [],
      "source": [
        "n_fft = 4096\n",
        "win_length = None\n",
        "hop_length =  8192 #4096 #adjusted due to too many frames being generated, which is limited by our computational power\n",
        "n_mels = 256\n",
        "n_mfcc = 20\n",
        "\n",
        "def plot_mfcc(waveform, sample_rate):\n",
        "  mfcc_transform = T.MFCC(\n",
        "      sample_rate=sample_rate,\n",
        "      n_mfcc=n_mfcc,\n",
        "      melkwargs={\n",
        "          \"n_fft\": n_fft,\n",
        "          \"n_mels\": n_mels,\n",
        "          \"hop_length\": hop_length,\n",
        "          \"mel_scale\": \"htk\",\n",
        "      },\n",
        "  )\n",
        "\n",
        "  mfcc = mfcc_transform(waveform)\n",
        "  return plot_spectrogram(mfcc[0])\n",
        "\n"
      ]
    },
    {
      "cell_type": "code",
      "execution_count": null,
      "metadata": {
        "colab": {
          "base_uri": "https://localhost:8080/",
          "height": 504
        },
        "id": "ePgvGyZ5LBLN",
        "outputId": "050fb13e-782e-4736-fa37-9db2027cb5d6"
      },
      "outputs": [
        {
          "name": "stdout",
          "output_type": "stream",
          "text": [
            "1xK59OXxi2TAAAbmZK0kBL\n"
          ]
        },
        {
          "data": {
            "image/png": "[encoded data removed]",
            "text/plain": [
              "<Figure size 1500x500 with 2 Axes>"
            ]
          },
          "metadata": {},
          "output_type": "display_data"
        }
      ],
      "source": [
        "for index, row in all_tracks.head(1).iterrows():\n",
        "    track_id = row['id']\n",
        "    filepath = name_of_file(track_id)\n",
        "    print(track_id)\n",
        "    WAVEFORM, SAMPLE_RATE = torchaudio.load(filepath)\n",
        "    waveform_mono = torch.mean(WAVEFORM, dim = 0, keepdim=True)\n",
        "    plot_spectrogram(waveform_mono)\n"
      ]
    },
    {
      "cell_type": "markdown",
      "metadata": {
        "id": "G3AQDuwrSzLF"
      },
      "source": [
        "Spectrograms of MFCCs appear a bit compressed, might be benefitial to just view what the MFCC looks like and maybe just feed the information from it directly into a model"
      ]
    },
    {
      "cell_type": "markdown",
      "metadata": {
        "id": "8lh-VTyguYO-"
      },
      "source": [
        "### Save MFCC transforms for all audio files\n",
        "\n",
        "Aids in being able to load them in later and avoid preprocessing"
      ]
    },
    {
      "cell_type": "code",
      "execution_count": null,
      "metadata": {
        "colab": {
          "base_uri": "https://localhost:8080/"
        },
        "id": "K6IykZn5Sl5_",
        "outputId": "45b6619e-2fa0-4505-8750-51a1bf8037ef"
      },
      "outputs": [
        {
          "name": "stdout",
          "output_type": "stream",
          "text": [
            "1xK59OXxi2TAAAbmZK0kBL\n",
            "mfcc_transform shape: torch.Size([1, 20, 160])\n"
          ]
        },
        {
          "name": "stderr",
          "output_type": "stream",
          "text": [
            "100%|██████████| 21325/21325 [3:17:56<00:00,  1.80it/s]\n"
          ]
        },
        {
          "name": "stdout",
          "output_type": "stream",
          "text": [
            "Combined MFCC tensor shape: torch.Size([21325, 1, 20, 160])\n",
            "Loaded MFCC tensor shape: torch.Size([21325, 1, 20, 160])\n"
          ]
        }
      ],
      "source": [
        "import torch\n",
        "\n",
        "n_fft = 4096\n",
        "win_length = None\n",
        "hop_length = 8192\n",
        "n_mels = 256\n",
        "n_mfcc = 20\n",
        "\n",
        "# Sample audio grabbing\n",
        "\n",
        "row = all_tracks.iloc[0]\n",
        "track_id = row['id']\n",
        "filepath = name_of_file(track_id)\n",
        "print(track_id)\n",
        "WAVEFORM, SAMPLE_RATE = torchaudio.load(filepath)\n",
        "waveform_mono = torch.mean(WAVEFORM, dim=0, keepdim=True)\n",
        "\n",
        "mfcc_transform = T.MFCC(\n",
        "  sample_rate=SAMPLE_RATE,\n",
        "  n_mfcc=n_mfcc,\n",
        "  melkwargs={\n",
        "      \"n_fft\": n_fft,\n",
        "      \"n_mels\": n_mels,\n",
        "      \"hop_length\": hop_length,\n",
        "      \"mel_scale\": \"htk\",\n",
        "    },\n",
        ").cuda()  # Move the transform to the GPU\n",
        "\n",
        "print(\"mfcc_transform shape:\", mfcc_transform(waveform_mono.cuda()).shape)  # Move the waveform to the GPU\n",
        "\n",
        "# Now for all the audio files\n",
        "\n",
        "# Need a function to pad tensors in case shape does not match\n",
        "def pad_tensor(tensor, target_frames):\n",
        "  _, _, current_frames = tensor.shape\n",
        "  if current_frames < target_frames:\n",
        "    padding = torch.zeros(1, 20, target_frames - current_frames).cuda()\n",
        "    return torch.cat((tensor, padding), dim=2)\n",
        "  return tensor\n",
        "\n",
        "mfcc_list = []\n",
        "\n",
        "from tqdm import tqdm # progress bar stuff\n",
        "\n",
        "for index, row in tqdm(all_tracks.iterrows(), total=all_tracks.shape[0]):\n",
        "  track_id = row['id']\n",
        "  filepath = name_of_file(track_id)\n",
        "  WAVEFORM, SAMPLE_RATE = torchaudio.load(filepath)\n",
        "  waveform_mono = torch.mean(WAVEFORM, dim=0, keepdim=True).cuda()\n",
        "  mfcc = mfcc_transform(waveform_mono)\n",
        "    \n",
        "  # Pad the MFCC tensor to shape [1, 20, 160]\n",
        "  mfcc = pad_tensor(mfcc, 160)\n",
        "\n",
        "  # print(f\"{track_id} mfcc_transform shape:\", mfcc.shape)\n",
        "  mfcc_list.append(mfcc)\n",
        "\n",
        "mfcc_tensor = torch.stack(mfcc_list, dim=0)\n",
        "print(\"Combined MFCC tensor shape:\", mfcc_tensor.shape)\n",
        "\n",
        "# save the tensor\n",
        "\n",
        "myDrive = \"/content/drive/MyDrive/\"\n",
        "tensor_file = os.path.join(os.path.dirname(myDrive), \"mfcc_tensor.pt\")\n",
        "\n",
        "# Save the tensor\n",
        "torch.save(mfcc_tensor, tensor_file)\n",
        "\n",
        "# Load the tensor back and print the shape\n",
        "loaded_mfcc_tensor = torch.load(tensor_file)\n",
        "print(\"Loaded MFCC tensor shape:\", loaded_mfcc_tensor.shape)\n"
      ]
    },
    {
      "cell_type": "markdown",
      "metadata": {
        "id": "GMPFijs8ku2a"
      },
      "source": [
        "After having experimented with various values for the MFCC parameters, we are settling with the following for each:\n",
        "\n",
        "n_fft = 4096\n",
        "\n",
        "win_length = None\n",
        "\n",
        "hop_length = 1024 (8192 now because too many frames)\n",
        "\n",
        "n_mels = 256\n",
        "\n",
        "n_mfcc = 20\n",
        "\n",
        "Part of our experimentation process will be to change n_mfcc to 40 and change win_length to 1024 such that we have shorter windows to capture more time-varying information at the expense of frequency resolution\n",
        "\n",
        "Also I'm making the decision to feed the mfcc directly into the model as a 2D tensor. The first argument in the printed shape above represents the batch size. The second arguement is the number of MFCC coefficients. The last arguement represents the number of frames in the MFCC representation of the image. Given our hop_length of (8192), clip length of 30 seconds that are sampled at 44100 Hz, we are looking at about (30 * 44100)/8192 frames. The edge effects of windowing and padding possibly contributes to this number being slightly lower than the actual value. "
      ]
    },
    {
      "cell_type": "markdown",
      "metadata": {
        "id": "ifwlbnuO6FR-"
      },
      "source": [
        "### Putting the data through the neural network\n",
        "\n",
        "#### Data loading task\n",
        "This first section is going to see us define a class for handling our dataset. This is because we originally have all information related to the data stored in a CSV file. Our goal is to extract the audio and create mfccs for them. And then we also associate the labels using our dataset class. We will perform some normalizing on both the Waveform such that it is on a single channel rather than being stereo. We will also experiment with rescaling the waveforms to be between [-1,1] instead of the current [0,1], and also maybe perform standard scaling. This will all come after first just getting MFCCs for the raw waveforms. We already know that the sample rate is set to be 44,100 Hz for all the audio tracks do we wont have to do naything there. For the actual MFCCs, we will need to add an extra dimention to represent the channel since CNNs expect that dimention. We will also scale the MCFF coefficients to have 0 mean and unit variance. This is just standard normalization since we will actually be feeding the MFCCs into our model. The things I mentioned to do to the waveform might not be necessary. This may also have to be experiemnted with. "
      ]
    },
    {
      "cell_type": "code",
      "execution_count": null,
      "metadata": {
        "id": "0tlPfj3uTevh"
      },
      "outputs": [],
      "source": [
        "from torch.utils.data import Dataset\n",
        "\n",
        "class AudioDataset(Dataset):\n",
        "  def __init__(self, tracks_df, mfcc_transform):\n",
        "    self.tracks_df = tracks_df\n",
        "    self.mfcc_transform = mfcc_transform\n",
        "\n",
        "  def __len__(self):\n",
        "    return len(self.tracks_df)\n",
        "\n",
        "  def __getitem__(self, idx):\n",
        "    current_id = self.tracks_df.iloc[idx]['id']\n",
        "    file_path = name_of_file(current_id)\n",
        "    wf, sr = torchaudio.load(file_path)\n",
        "\n",
        "    # convert waveform to mono\n",
        "    wf_mono = torch.mean(wf, dim=0, keepdim=True)\n",
        "\n",
        "    # # for experimentation later: \n",
        "    # wf_std = (wf_mono - wf_mono.mean()) / wf_mono.std()\n",
        "\n",
        "    # # for other experimentation later\n",
        "    # wf_std = self.normalize_waveform(wf_mono)\n",
        "\n",
        "    mfcc = self.mfcc_transform(wf_mono)\n",
        "    mfcc = self.standardize_mfcc(mfcc) # might comment out later and experiment without this\n",
        "    # mfcc = mfcc.unsqueeze(1) # this is however, very necessary (or not?)\n",
        "    mfcc = torch.squeeze(mfcc)\n",
        "    \n",
        "    #label = self.tracks_df.iloc[idx]['danceability']\n",
        "    label = torch.tensor(self.tracks_df.iloc[idx]['danceability'], dtype=torch.float32).unsqueeze(0)\n",
        "\n",
        "    # Create new tensors with resizable storage\n",
        "    mfcc_resizable = mfcc.clone().detach().requires_grad_(mfcc.requires_grad)\n",
        "    label_resizable = label.clone().detach().requires_grad_(label.requires_grad)\n",
        "\n",
        "    return mfcc_resizable, label_resizable # torch.tensor(label, dtype=torch.float32)\n",
        "    #return super().__getitem__(index)\n",
        "\n",
        "  # This first function is most likely going unused. It is there to rescale the waveforms to be between [-1,1] isntead of [0,1]\n",
        "  @staticmethod\n",
        "  def normalize_waveform(waveform):\n",
        "    min_val = waveform.min()\n",
        "    max_val = waveform.max()\n",
        "    waveform = (waveform - min_val) / (max_val - min_val + 1e-8)\n",
        "    waveform = 2 * waveform - 1\n",
        "    return waveform\n",
        "\n",
        "  @staticmethod\n",
        "  def standardize_mfcc(mfcc):\n",
        "    mean = mfcc.mean(dim=-1, keepdim=True)\n",
        "    std = mfcc.std(dim=-1, keepdim=True)\n",
        "    mfcc = (mfcc - mean) / (std + 1e-8)  # Add a small constant to avoid division by zero\n",
        "    return mfcc"
      ]
    },
    {
      "cell_type": "markdown",
      "metadata": {
        "id": "fNdx1gzMBWN5"
      },
      "source": [
        "#### Train test validation \n",
        "\n",
        "We now define a basic neural network, divide out our dataset, and perform some training"
      ]
    },
    {
      "cell_type": "code",
      "execution_count": null,
      "metadata": {
        "id": "Zwtx-Dvb9uCC"
      },
      "outputs": [],
      "source": [
        "import torch\n",
        "import torch.nn as nn\n",
        "import torch.optim as optim\n",
        "\n",
        "class SimpleCNN(nn.Module):\n",
        "  def __init__(self, num_classes=1):\n",
        "    super(SimpleCNN, self).__init__()\n",
        "    self.conv1 = nn.Conv2d(1, 16, kernel_size=3, stride=1, padding=1)\n",
        "    self.relu1 = nn.ReLU()\n",
        "    self.pool1 = nn.MaxPool2d(kernel_size=2, stride=2, padding=0)\n",
        "        \n",
        "    self.conv2 = nn.Conv2d(16, 32, kernel_size=3, stride=1, padding=1)\n",
        "    self.relu2 = nn.ReLU()\n",
        "    self.pool2 = nn.MaxPool2d(kernel_size=2, stride=2, padding=0)\n",
        "\n",
        "    self.fc1 = nn.Linear(32 * 5 * 320, 64)\n",
        "    self.relu3 = nn.ReLU()\n",
        "    self.fc2 = nn.Linear(64, num_classes)\n",
        "    self.sigmoid = nn.Sigmoid()\n",
        "\n",
        "  def forward(self, x):\n",
        "    x = self.conv1(x)\n",
        "    x = self.relu1(x)\n",
        "    x = self.pool1(x)    \n",
        "    x = self.conv2(x)\n",
        "    x = self.relu2(x)\n",
        "    x = self.pool2(x)\n",
        "    x = x.view(-1, 32 * 5 * 320)\n",
        "    x = self.fc1(x)\n",
        "    x = self.relu3(x)\n",
        "    x = self.fc2(x)\n",
        "    x = self.sigmoid(x)\n",
        "    # Multiply by 1000, round, and then divide by 1000 for precision purposes\n",
        "    x = torch.round(x * 1000) / 1000\n",
        "\n",
        "    return x\n"
      ]
    },
    {
      "cell_type": "code",
      "execution_count": null,
      "metadata": {
        "id": "J3MGBIs8BjeG"
      },
      "outputs": [],
      "source": [
        "import pandas as pd\n",
        "from sklearn.model_selection import train_test_split\n",
        "from torch.utils.data import DataLoader\n",
        "\n",
        "\n",
        "train_df, test_val_df = train_test_split(all_tracks, test_size=0.3, random_state=42)\n",
        "test_df, val_df = train_test_split(test_val_df, test_size=0.5, random_state=42)\n",
        "\n",
        "# Instantiate the MFCC feature extractor\n",
        "n_fft = 4096\n",
        "win_length = None\n",
        "hop_length = 1024\n",
        "n_mels = 256\n",
        "n_mfcc = 20\n",
        "\n",
        "mfcc_transform = T.MFCC(\n",
        "    sample_rate=44100,\n",
        "    n_mfcc=n_mfcc,\n",
        "    melkwargs={\n",
        "        \"n_fft\": n_fft,\n",
        "        \"n_mels\": n_mels,\n",
        "        \"hop_length\": hop_length,\n",
        "        \"mel_scale\": \"htk\",\n",
        "    },\n",
        ")\n",
        "\n",
        "def custom_collate_fn(batch):\n",
        "  # Separate the MFCC tensors and labels\n",
        "  inputs, labels = zip(*batch)\n",
        "\n",
        "  # Pad the MFCC tensors to have the same size\n",
        "  inputs = torch.nn.utils.rnn.pad_sequence(inputs, batch_first=True)\n",
        "  \n",
        "  # Stack the labels into a single tensor\n",
        "  labels = torch.stack(labels)\n",
        "\n",
        "  return inputs, labels\n",
        "\n",
        "\n",
        "train_dataset = AudioDataset(train_df, mfcc_transform)\n",
        "val_dataset = AudioDataset(val_df, mfcc_transform)\n",
        "test_dataset = AudioDataset(test_df, mfcc_transform)\n",
        "\n",
        "#train_loader = DataLoader(train_dataset, batch_size=32, shuffle=True, num_workers=2)\n",
        "train_loader = DataLoader(train_dataset, batch_size=32, shuffle=True, num_workers=2, collate_fn=custom_collate_fn)\n",
        "val_loader = DataLoader(val_dataset, batch_size=32, shuffle=False, num_workers=2)\n",
        "test_loader = DataLoader(test_dataset, batch_size=32, shuffle=False, num_workers=2)\n"
      ]
    },
    {
      "cell_type": "code",
      "execution_count": null,
      "metadata": {
        "id": "kHKY6lLPBvxQ"
      },
      "outputs": [],
      "source": [
        "device = torch.device(\"cuda\" if torch.cuda.is_available() else \"cpu\")\n",
        "model = SimpleCNN(num_classes=1).to(device)\n",
        "criterion = nn.MSELoss()\n",
        "optimizer = optim.Adam(model.parameters(), lr=1e-3)\n",
        "\n",
        "num_epochs = 20\n",
        "for epoch in range(num_epochs):\n",
        "  print(f\"working on epoch: {epoch}\")\n",
        "  model.train()\n",
        "  running_loss = 0.0\n",
        "  for i, (inputs, labels) in enumerate(train_loader):\n",
        "    # Permute dimensions to [batch_size, channels, height, width]\n",
        "    inputs = inputs.unsqueeze(1)\n",
        "    inputs = inputs.permute(0, 1, 2, 3)\n",
        "    inputs, labels = inputs.to(device), labels.to(device)\n",
        "        \n",
        "    optimizer.zero_grad()\n",
        "    outputs = model(inputs)\n",
        "    loss = criterion(outputs, labels)\n",
        "    loss.backward()\n",
        "    optimizer.step()\n",
        "        \n",
        "    running_loss += loss.item()\n",
        "\n",
        "  epoch_loss = running_loss / (i + 1)\n",
        "  print(f\"Epoch [{epoch + 1}/{num_epochs}] - Loss: {epoch_loss:.4f}\")\n",
        "\n",
        "  # Validation\n",
        "  model.eval()\n",
        "  val_running_loss = 0.0\n",
        "  with torch.no_grad():\n",
        "    for inputs, labels in val_loader:\n",
        "      inputs, labels = inputs.to(device), labels.to(device)\n",
        "      outputs = model(inputs)\n",
        "      loss = criterion(outputs, labels)\n",
        "      val_running_loss += loss.item()\n",
        "\n",
        "  val_epoch_loss = val_running_loss / len(val_loader)\n",
        "  print(f\"Validation Loss: {val_epoch_loss:.4f}\")\n"
      ]
    },
    {
      "cell_type": "code",
      "execution_count": null,
      "metadata": {
        "id": "7ogz633-CTY7"
      },
      "outputs": [],
      "source": [
        "model.eval()\n",
        "test_running_loss = 0.0\n",
        "with torch.no_grad():\n",
        "  for inputs, labels in test_loader:\n",
        "    inputs, labels = inputs.to(device), labels.to(device)\n",
        "        \n",
        "    outputs = model(inputs)\n",
        "    loss = criterion(outputs, labels)\n",
        "    test_running_loss += loss.item()\n",
        "\n",
        "test_loss = test_running_loss / len(test_loader)\n",
        "print(f\"Test Loss: {test_loss:.4f}\")\n"
      ]
    },
    {
      "cell_type": "markdown",
      "metadata": {
        "id": "brQxjHhhvaNg"
      },
      "source": [
        "### Attempt 2 at training model\n",
        "\n",
        "This time we have precomputed the MFCCs and reduced the frames to take some of the work load off our dataloader"
      ]
    },
    {
      "cell_type": "markdown",
      "metadata": {
        "id": "8tr46A2rwCJc"
      },
      "source": [
        "#### First we load in our saved MFCC dataframe"
      ]
    },
    {
      "cell_type": "code",
      "execution_count": null,
      "metadata": {
        "id": "eua8KmtevjlW"
      },
      "outputs": [],
      "source": [
        "\n",
        "class AudioDataset(torch.utils.data.Dataset):\n",
        "  def __init__(self, mfcc_tensor, df):\n",
        "    self.df = df\n",
        "    self.mfcc = mfcc_tensor\n",
        "    self.mean = self.mfcc.mean()\n",
        "    self.std = self.mfcc.std()\n",
        "\n",
        "    # Standardize MFCC tensor\n",
        "    self.mfcc = (self.mfcc - self.mean) / self.std\n",
        "\n",
        "  def __len__(self):\n",
        "    return len(self.df)\n",
        "\n",
        "  def __getitem__(self, idx):\n",
        "    label = torch.tensor(self.df.iloc[idx]['danceability'], dtype=torch.float32)\n",
        "    mfcc = self.mfcc[idx]\n",
        "    return mfcc, label\n"
      ]
    },
    {
      "cell_type": "code",
      "execution_count": null,
      "metadata": {
        "colab": {
          "base_uri": "https://localhost:8080/"
        },
        "id": "DfEKJe1IwBFp",
        "outputId": "62516bf1-edc9-4061-afd0-c1cf32bf6f7f"
      },
      "outputs": [
        {
          "name": "stdout",
          "output_type": "stream",
          "text": [
            "Loaded MFCC tensor shape: torch.Size([21325, 20, 160])\n"
          ]
        }
      ],
      "source": [
        "import pandas as pd\n",
        "from sklearn.model_selection import train_test_split\n",
        "from torch.utils.data import DataLoader\n",
        "\n",
        "# Load the MFCC tensor\n",
        "myDrive = \"/content/drive/MyDrive/\"\n",
        "tensor_file = os.path.join(os.path.dirname(myDrive), \"mfcc_tensor.pt\")\n",
        "loaded_mfcc_tensor = torch.load(tensor_file).squeeze(1)\n",
        "print(\"Loaded MFCC tensor shape:\", loaded_mfcc_tensor.shape)\n",
        "\n",
        "# Split all_tracks and the loaded MFCC tensor\n",
        "train_tracks, test_val_tracks = train_test_split(all_tracks, test_size=0.3, random_state=42)\n",
        "test_tracks, val_tracks = train_test_split(test_val_tracks, test_size=0.5, random_state=42)\n",
        "\n",
        "train_mfcc, test_val_mfcc = train_test_split(loaded_mfcc_tensor, test_size=0.3, random_state=42)\n",
        "test_mfcc, val_mfcc = train_test_split(test_val_mfcc, test_size=0.5, random_state=42)\n",
        "\n",
        "# Create the datasets\n",
        "train_dataset = AudioDataset(train_mfcc, train_tracks)\n",
        "val_dataset = AudioDataset(val_mfcc, val_tracks)\n",
        "test_dataset = AudioDataset(test_mfcc, test_tracks)\n",
        "\n",
        "# Create the data loaders\n",
        "train_loader = DataLoader(train_dataset, batch_size=32, shuffle=True, num_workers=0)\n",
        "val_loader = DataLoader(val_dataset, batch_size=32, shuffle=False, num_workers=0)\n",
        "test_loader = DataLoader(test_dataset, batch_size=32, shuffle=False, num_workers=0)\n"
      ]
    },
    {
      "cell_type": "markdown",
      "metadata": {
        "id": "c08ZIBOQhgmt"
      },
      "source": [
        "#### 2D CNN Model:\n",
        "\n",
        "Treating the MFCC/frames as images and using a 2D CNN can help capture local patterns and structures in the spectrograms. CNNs are efficient in extracting features from fixed-size inputs, like images. In this case, since the MFCC tensors are of a fixed size [20, 160], a 2D CNN can work well. 2D CNNs can also handle variations in the time and frequency domains simultaneously, making them suitable for audio-related tasks."
      ]
    },
    {
      "cell_type": "code",
      "execution_count": null,
      "metadata": {
        "id": "Ss88HNC5f7nV"
      },
      "outputs": [],
      "source": [
        "import torch.nn as nn\n",
        "\n",
        "# 2D CNN Model\n",
        "class CNNModel(nn.Module):\n",
        "  def __init__(self):\n",
        "    super(CNNModel, self).__init__()\n",
        "    self.conv1 = nn.Conv2d(1, 16, 3, padding=1)\n",
        "    self.conv2 = nn.Conv2d(16, 32, 3, padding=1)\n",
        "    self.fc1 = nn.Linear(32 * 5 * 40, 64)\n",
        "    self.fc2 = nn.Linear(64, 1)\n",
        "    self.sigmoid = nn.Sigmoid()\n",
        "\n",
        "  def forward(self, x):\n",
        "    x = nn.functional.relu(self.conv1(x))\n",
        "    x = nn.functional.max_pool2d(x, 2)\n",
        "    x = nn.functional.relu(self.conv2(x))\n",
        "    x = nn.functional.max_pool2d(x, 2)\n",
        "    x = x.view(x.size(0), -1)\n",
        "    x = nn.functional.relu(self.fc1(x))\n",
        "    x = self.fc2(x)\n",
        "\n",
        "    x = self.sigmoid(x)\n",
        "    \n",
        "    # Multiply by 1000, round, and then divide by 1000 for precision purposes\n",
        "    # x = torch.round(x * 1000) / 1000 # prevents loss from doing down\n",
        "\n",
        "    return x"
      ]
    },
    {
      "cell_type": "code",
      "execution_count": null,
      "metadata": {
        "colab": {
          "background_save": true,
          "base_uri": "https://localhost:8080/"
        },
        "id": "S5opOf2CiCh9",
        "outputId": "4baba049-d0a3-4a9f-a1e2-5dd7bd7d401a"
      },
      "outputs": [
        {
          "name": "stdout",
          "output_type": "stream",
          "text": [
            "working on epoch: 0\n"
          ]
        },
        {
          "name": "stderr",
          "output_type": "stream",
          "text": [
            "100%|██████████| 467/467 [00:06<00:00, 70.20it/s] \n"
          ]
        },
        {
          "name": "stdout",
          "output_type": "stream",
          "text": [
            "Epoch [1/20] - Loss: 0.0226\n",
            "Validation Loss: 0.0197\n",
            "working on epoch: 1\n"
          ]
        },
        {
          "name": "stderr",
          "output_type": "stream",
          "text": [
            "100%|██████████| 467/467 [00:03<00:00, 119.62it/s]\n"
          ]
        },
        {
          "name": "stdout",
          "output_type": "stream",
          "text": [
            "Epoch [2/20] - Loss: 0.0167\n",
            "Validation Loss: 0.0165\n",
            "working on epoch: 2\n"
          ]
        },
        {
          "name": "stderr",
          "output_type": "stream",
          "text": [
            "100%|██████████| 467/467 [00:04<00:00, 107.08it/s]\n"
          ]
        },
        {
          "name": "stdout",
          "output_type": "stream",
          "text": [
            "Epoch [3/20] - Loss: 0.0149\n",
            "Validation Loss: 0.0153\n",
            "working on epoch: 3\n"
          ]
        },
        {
          "name": "stderr",
          "output_type": "stream",
          "text": [
            "100%|██████████| 467/467 [00:04<00:00, 105.45it/s]\n"
          ]
        },
        {
          "name": "stdout",
          "output_type": "stream",
          "text": [
            "Epoch [4/20] - Loss: 0.0140\n",
            "Validation Loss: 0.0144\n",
            "working on epoch: 4\n"
          ]
        },
        {
          "name": "stderr",
          "output_type": "stream",
          "text": [
            "100%|██████████| 467/467 [00:03<00:00, 118.71it/s]\n"
          ]
        },
        {
          "name": "stdout",
          "output_type": "stream",
          "text": [
            "Epoch [5/20] - Loss: 0.0133\n",
            "Validation Loss: 0.0139\n",
            "working on epoch: 5\n"
          ]
        },
        {
          "name": "stderr",
          "output_type": "stream",
          "text": [
            "100%|██████████| 467/467 [00:04<00:00, 102.17it/s]\n"
          ]
        },
        {
          "name": "stdout",
          "output_type": "stream",
          "text": [
            "Epoch [6/20] - Loss: 0.0128\n",
            "Validation Loss: 0.0136\n",
            "working on epoch: 6\n"
          ]
        },
        {
          "name": "stderr",
          "output_type": "stream",
          "text": [
            "100%|██████████| 467/467 [00:04<00:00, 112.93it/s]\n"
          ]
        },
        {
          "name": "stdout",
          "output_type": "stream",
          "text": [
            "Epoch [7/20] - Loss: 0.0124\n",
            "Validation Loss: 0.0129\n",
            "working on epoch: 7\n"
          ]
        },
        {
          "name": "stderr",
          "output_type": "stream",
          "text": [
            "100%|██████████| 467/467 [00:03<00:00, 120.92it/s]\n"
          ]
        },
        {
          "name": "stdout",
          "output_type": "stream",
          "text": [
            "Epoch [8/20] - Loss: 0.0121\n",
            "Validation Loss: 0.0126\n",
            "working on epoch: 8\n"
          ]
        },
        {
          "name": "stderr",
          "output_type": "stream",
          "text": [
            "100%|██████████| 467/467 [00:04<00:00, 104.91it/s]\n"
          ]
        },
        {
          "name": "stdout",
          "output_type": "stream",
          "text": [
            "Epoch [9/20] - Loss: 0.0118\n",
            "Validation Loss: 0.0126\n",
            "working on epoch: 9\n"
          ]
        },
        {
          "name": "stderr",
          "output_type": "stream",
          "text": [
            "100%|██████████| 467/467 [00:03<00:00, 117.38it/s]\n"
          ]
        },
        {
          "name": "stdout",
          "output_type": "stream",
          "text": [
            "Epoch [10/20] - Loss: 0.0116\n",
            "Validation Loss: 0.0121\n",
            "working on epoch: 10\n"
          ]
        },
        {
          "name": "stderr",
          "output_type": "stream",
          "text": [
            "100%|██████████| 467/467 [00:03<00:00, 125.91it/s]\n"
          ]
        },
        {
          "name": "stdout",
          "output_type": "stream",
          "text": [
            "Epoch [11/20] - Loss: 0.0114\n",
            "Validation Loss: 0.0119\n",
            "working on epoch: 11\n"
          ]
        },
        {
          "name": "stderr",
          "output_type": "stream",
          "text": [
            "100%|██████████| 467/467 [00:04<00:00, 109.44it/s]\n"
          ]
        },
        {
          "name": "stdout",
          "output_type": "stream",
          "text": [
            "Epoch [12/20] - Loss: 0.0112\n",
            "Validation Loss: 0.0118\n",
            "working on epoch: 12\n"
          ]
        },
        {
          "name": "stderr",
          "output_type": "stream",
          "text": [
            "100%|██████████| 467/467 [00:04<00:00, 115.45it/s]\n"
          ]
        },
        {
          "name": "stdout",
          "output_type": "stream",
          "text": [
            "Epoch [13/20] - Loss: 0.0111\n",
            "Validation Loss: 0.0116\n",
            "working on epoch: 13\n"
          ]
        },
        {
          "name": "stderr",
          "output_type": "stream",
          "text": [
            "100%|██████████| 467/467 [00:03<00:00, 126.42it/s]\n"
          ]
        },
        {
          "name": "stdout",
          "output_type": "stream",
          "text": [
            "Epoch [14/20] - Loss: 0.0109\n",
            "Validation Loss: 0.0115\n",
            "working on epoch: 14\n"
          ]
        },
        {
          "name": "stderr",
          "output_type": "stream",
          "text": [
            "100%|██████████| 467/467 [00:04<00:00, 109.19it/s]\n"
          ]
        },
        {
          "name": "stdout",
          "output_type": "stream",
          "text": [
            "Epoch [15/20] - Loss: 0.0108\n",
            "Validation Loss: 0.0113\n",
            "working on epoch: 15\n"
          ]
        },
        {
          "name": "stderr",
          "output_type": "stream",
          "text": [
            "100%|██████████| 467/467 [00:04<00:00, 110.23it/s]\n"
          ]
        },
        {
          "name": "stdout",
          "output_type": "stream",
          "text": [
            "Epoch [16/20] - Loss: 0.0107\n",
            "Validation Loss: 0.0113\n",
            "working on epoch: 16\n"
          ]
        },
        {
          "name": "stderr",
          "output_type": "stream",
          "text": [
            "100%|██████████| 467/467 [00:03<00:00, 119.79it/s]\n"
          ]
        },
        {
          "name": "stdout",
          "output_type": "stream",
          "text": [
            "Epoch [17/20] - Loss: 0.0106\n",
            "Validation Loss: 0.0111\n",
            "working on epoch: 17\n"
          ]
        },
        {
          "name": "stderr",
          "output_type": "stream",
          "text": [
            "100%|██████████| 467/467 [00:04<00:00, 101.78it/s]\n"
          ]
        },
        {
          "name": "stdout",
          "output_type": "stream",
          "text": [
            "Epoch [18/20] - Loss: 0.0105\n",
            "Validation Loss: 0.0117\n",
            "working on epoch: 18\n"
          ]
        },
        {
          "name": "stderr",
          "output_type": "stream",
          "text": [
            "100%|██████████| 467/467 [00:04<00:00, 112.55it/s]\n"
          ]
        },
        {
          "name": "stdout",
          "output_type": "stream",
          "text": [
            "Epoch [19/20] - Loss: 0.0104\n",
            "Validation Loss: 0.0110\n",
            "working on epoch: 19\n"
          ]
        },
        {
          "name": "stderr",
          "output_type": "stream",
          "text": [
            "100%|██████████| 467/467 [00:03<00:00, 121.45it/s]\n"
          ]
        },
        {
          "name": "stdout",
          "output_type": "stream",
          "text": [
            "Epoch [20/20] - Loss: 0.0103\n",
            "Validation Loss: 0.0112\n"
          ]
        }
      ],
      "source": [
        "import torch.optim as optim\n",
        "from tqdm import tqdm # progress bar stuff\n",
        "import os\n",
        "os.environ['CUDA_LAUNCH_BLOCKING'] = \"1\"\n",
        "\n",
        "device = torch.device(\"cuda\" if torch.cuda.is_available() else \"cpu\")\n",
        "model = CNNModel().to(device)\n",
        "criterion = nn.MSELoss()\n",
        "optimizer = optim.Adam(model.parameters(), lr=1e-5)\n",
        "\n",
        "num_epochs = 20\n",
        "for epoch in range(num_epochs):\n",
        "  print(f\"working on epoch: {epoch}\")\n",
        "  model.train()\n",
        "  running_loss = 0.0\n",
        "  for i, (inputs, labels) in enumerate(tqdm(train_loader)):\n",
        "    inputs, labels = inputs.to(device), labels.to(device)\n",
        "    #inputs = inputs.permute(1,0,2)\n",
        "    inputs = inputs.unsqueeze(1)\n",
        "    #inputs = inputs.permute(0,1,2,3)\n",
        "    \n",
        "    optimizer.zero_grad()\n",
        "    outputs = model(inputs)\n",
        "    loss = criterion(outputs.squeeze(), labels)\n",
        "    loss.backward()\n",
        "    optimizer.step()\n",
        "    \n",
        "    running_loss += loss.item()\n",
        "\n",
        "  epoch_loss = running_loss / (i + 1)\n",
        "  print(f\"Epoch [{epoch + 1}/{num_epochs}] - Loss: {epoch_loss:.4f}\")\n",
        "\n",
        "  # Validation\n",
        "  model.eval()\n",
        "  val_running_loss = 0.0\n",
        "  with torch.no_grad():\n",
        "    for inputs, labels in val_loader:\n",
        "      inputs, labels = inputs.to(device), labels.to(device)\n",
        "      inputs = inputs.unsqueeze(1)\n",
        "      #inputs = inputs.permute(0,1,2,3)\n",
        "      outputs = model(inputs)\n",
        "      loss = criterion(outputs.squeeze(), labels)\n",
        "      val_running_loss += loss.item()\n",
        "\n",
        "  val_epoch_loss = val_running_loss / len(val_loader)\n",
        "  print(f\"Validation Loss: {val_epoch_loss:.4f}\")\n"
      ]
    },
    {
      "cell_type": "code",
      "execution_count": null,
      "metadata": {
        "colab": {
          "base_uri": "https://localhost:8080/"
        },
        "id": "A-mZnIonjrv4",
        "outputId": "97a31db1-de47-45a6-ea1d-d01b53de521c"
      },
      "outputs": [
        {
          "name": "stdout",
          "output_type": "stream",
          "text": [
            "Sat Apr 15 06:27:04 2023       \n",
            "+-----------------------------------------------------------------------------+\n",
            "| NVIDIA-SMI 525.85.12    Driver Version: 525.85.12    CUDA Version: 12.0     |\n",
            "|-------------------------------+----------------------+----------------------+\n",
            "| GPU  Name        Persistence-M| Bus-Id        Disp.A | Volatile Uncorr. ECC |\n",
            "| Fan  Temp  Perf  Pwr:Usage/Cap|         Memory-Usage | GPU-Util  Compute M. |\n",
            "|                               |                      |               MIG M. |\n",
            "|===============================+======================+======================|\n",
            "|   0  Tesla T4            Off  | 00000000:00:04.0 Off |                    0 |\n",
            "| N/A   55C    P0    26W /  70W |   2181MiB / 15360MiB |      0%      Default |\n",
            "|                               |                      |                  N/A |\n",
            "+-------------------------------+----------------------+----------------------+\n",
            "                                                                               \n",
            "+-----------------------------------------------------------------------------+\n",
            "| Processes:                                                                  |\n",
            "|  GPU   GI   CI        PID   Type   Process name                  GPU Memory |\n",
            "|        ID   ID                                                   Usage      |\n",
            "|=============================================================================|\n",
            "+-----------------------------------------------------------------------------+\n"
          ]
        }
      ],
      "source": [
        "!nvidia-smi\n",
        "\n"
      ]
    },
    {
      "cell_type": "markdown",
      "source": [
        "Save the CNN model"
      ],
      "metadata": {
        "id": "9IFtn060tgBc"
      }
    },
    {
      "cell_type": "code",
      "source": [
        "# Assuming the directory path is saved in the variable `data_directory`\n",
        "data_directory = \"/content/drive/MyDrive/\"\n",
        "model_weights_path = os.path.join(data_directory, \"cnn_model_weights.pth\")\n",
        "\n",
        "# Save the model weights\n",
        "torch.save(model.state_dict(), model_weights_path)\n"
      ],
      "metadata": {
        "id": "N_UYwFKmtfCG"
      },
      "execution_count": 20,
      "outputs": []
    },
    {
      "cell_type": "markdown",
      "source": [
        "Load the CNN model"
      ],
      "metadata": {
        "id": "u7ZjOr49thr8"
      }
    },
    {
      "cell_type": "code",
      "source": [
        "# Load the model weights\n",
        "loaded_model = CNNModel().to(device)\n",
        "loaded_model.load_state_dict(torch.load(model_weights_path))\n",
        "loaded_model.eval()  # Set the model to evaluation mode\n"
      ],
      "metadata": {
        "colab": {
          "base_uri": "https://localhost:8080/"
        },
        "id": "Qm3Ly_WAti2E",
        "outputId": "fba0d11f-13cd-4346-c4dc-ced6ed2af53c"
      },
      "execution_count": 21,
      "outputs": [
        {
          "output_type": "execute_result",
          "data": {
            "text/plain": [
              "CNNModel(\n",
              "  (conv1): Conv2d(1, 16, kernel_size=(3, 3), stride=(1, 1), padding=(1, 1))\n",
              "  (conv2): Conv2d(16, 32, kernel_size=(3, 3), stride=(1, 1), padding=(1, 1))\n",
              "  (fc1): Linear(in_features=6400, out_features=64, bias=True)\n",
              "  (fc2): Linear(in_features=64, out_features=1, bias=True)\n",
              "  (sigmoid): Sigmoid()\n",
              ")"
            ]
          },
          "metadata": {},
          "execution_count": 21
        }
      ]
    },
    {
      "cell_type": "markdown",
      "source": [
        "Evaluate the CNN model"
      ],
      "metadata": {
        "id": "6u4ln4BOtluR"
      }
    },
    {
      "cell_type": "code",
      "execution_count": 22,
      "metadata": {
        "colab": {
          "base_uri": "https://localhost:8080/"
        },
        "id": "H8hFs-9rpH2k",
        "outputId": "e989d051-d97d-4433-892a-c239f173700c"
      },
      "outputs": [
        {
          "output_type": "stream",
          "name": "stdout",
          "text": [
            "Mean Squared Error: 0.0110\n",
            "Mean Absolute Error: 0.0800\n",
            "Root Mean Squared Error: 0.1048\n",
            "R-squared: 0.6481\n",
            "Pearson's Correlation Coefficient: 0.8114\n"
          ]
        }
      ],
      "source": [
        "import numpy as np\n",
        "from scipy.stats import pearsonr\n",
        "from sklearn.metrics import mean_squared_error, mean_absolute_error, r2_score\n",
        "\n",
        "true_labels = []\n",
        "predicted_labels = []\n",
        "\n",
        "loaded_model.eval()\n",
        "with torch.no_grad():\n",
        "  for inputs, labels in test_loader:\n",
        "    inputs = inputs.unsqueeze(1).to(device)\n",
        "    labels = labels.to(device)\n",
        "\n",
        "    outputs = loaded_model(inputs)\n",
        "\n",
        "    true_labels.extend(labels.cpu().numpy())\n",
        "    predicted_labels.extend(outputs.squeeze().cpu().numpy())\n",
        "\n",
        "true_labels = np.array(true_labels)\n",
        "predicted_labels = np.array(predicted_labels)\n",
        "\n",
        "mse = mean_squared_error(true_labels, predicted_labels)\n",
        "mae = mean_absolute_error(true_labels, predicted_labels)\n",
        "rmse = np.sqrt(mse)\n",
        "r2 = r2_score(true_labels, predicted_labels)\n",
        "pearson_corr, _ = pearsonr(true_labels, predicted_labels)\n",
        "\n",
        "print(f\"Mean Squared Error: {mse:.4f}\")\n",
        "print(f\"Mean Absolute Error: {mae:.4f}\")\n",
        "print(f\"Root Mean Squared Error: {rmse:.4f}\")\n",
        "print(f\"R-squared: {r2:.4f}\")\n",
        "print(f\"Pearson's Correlation Coefficient: {pearson_corr:.4f}\")\n"
      ]
    },
    {
      "cell_type": "markdown",
      "source": [
        "Mean Squared Error (MSE): The MSE value of 0.0110 indicates the average squared difference between the true labels and the predicted labels. Given the danceability values range between 0 and 1, MSE can be sensitive to outliers and might exaggerate the model's errors. Although it's a commonly used metric, interpreting the results intuitively can be challenging due to the squaring operation.\n",
        "\n",
        "Mean Absolute Error (MAE): The MAE value of 0.0800 represents the average absolute difference between the true labels and the predicted labels. As a more intuitive metric than MSE, MAE directly quantifies the average magnitude of errors without squaring them. In this case, the model's predictions deviate from the true labels by an average of 0.0800, which is relatively low given the [0,1] interval of danceability values.\n",
        "\n",
        "Root Mean Squared Error (RMSE): The RMSE value of 0.1048 indicates that, on average, the model's predictions deviate from the true labels by 0.1048. Considering the danceability values range between 0 and 1, the model demonstrates a decent performance. However, the specific application and desired level of accuracy may necessitate further improvement. RMSE is useful for understanding the average magnitude of the errors and penalizes larger errors more heavily.\n",
        "\n",
        "R-squared: The R-squared value of 0.6481 shows that the CNN model explains approximately 64.81% of the variability in danceability values. This moderate value suggests that the model captures a significant portion of the variance in danceability, but there is still room for improvement. R-squared measures the proportion of the variance in the dependent variable that is predictable from the independent variables and is commonly used to evaluate the goodness-of-fit of a model.\n",
        "\n",
        "Pearson's Correlation Coefficient: With a value of 0.8114, the Pearson's Correlation Coefficient demonstrates a strong positive linear relationship between the true labels and the predicted labels. This result implies that as the true danceability values increase, the model's predictions also tend to increase, and vice versa. This is a promising sign for the model's performance. Pearson's Correlation Coefficient measures the linear relationship between two variables, with values ranging from -1 (perfect negative correlation) to 1 (perfect positive correlation).\n",
        "\n",
        "Overall, the CNN model exhibits a decent performance in predicting danceability. The model's predictions have a strong positive linear relationship with the true labels, and it explains a significant portion of the variability in danceability values. However, there is still room for improvement, and further model refinements or alternative architectures could potentially lead to better results."
      ],
      "metadata": {
        "id": "RDL0GkZIuKwL"
      }
    },
    {
      "cell_type": "markdown",
      "metadata": {
        "id": "4EIaShemhl5T"
      },
      "source": [
        "#### 1D RNN Model:\n",
        "\n",
        "Using a 1D RNN model is beneficial when you want to capture the temporal dependencies in the data. RNNs, specifically LSTMs and GRUs, are designed to handle sequences and are capable of remembering information from previous time steps. If the temporal relationship between the frames is critical in this task, an RNN-based model can be more appropriate. However, RNNs might be slower to train and more prone to vanishing gradient issues when compared to CNNs."
      ]
    },
    {
      "cell_type": "code",
      "execution_count": null,
      "metadata": {
        "id": "UOTrJVvkhodq"
      },
      "outputs": [],
      "source": [
        "# 1D RNN Model\n",
        "import torch.nn as nn\n",
        "\n",
        "class RNNModel(nn.Module):\n",
        "  def __init__(self, input_size=20, hidden_size=64, num_layers=1):\n",
        "    super(RNNModel, self).__init__()\n",
        "    self.hidden_size = hidden_size\n",
        "    self.num_layers = num_layers\n",
        "    self.lstm = nn.LSTM(input_size, hidden_size, num_layers, batch_first=True)\n",
        "    self.fc = nn.Linear(hidden_size, 1)\n",
        "\n",
        "  def forward(self, x):\n",
        "    h0 = torch.zeros(self.num_layers, x.size(0), self.hidden_size).to(x.device)\n",
        "    c0 = torch.zeros(self.num_layers, x.size(0), self.hidden_size).to(x.device)\n",
        "    out, _ = self.lstm(x, (h0, c0))\n",
        "    out = self.fc(out[:, -1, :])\n",
        "    return out"
      ]
    },
    {
      "cell_type": "code",
      "execution_count": null,
      "metadata": {
        "colab": {
          "base_uri": "https://localhost:8080/",
          "height": 1000
        },
        "id": "XkGa_T9Js5Hy",
        "outputId": "06d8117d-9914-496a-e841-5183b95f5b68"
      },
      "outputs": [
        {
          "name": "stdout",
          "output_type": "stream",
          "text": [
            "working on epoch: 0\n"
          ]
        },
        {
          "name": "stderr",
          "output_type": "stream",
          "text": [
            "100%|██████████| 467/467 [00:03<00:00, 129.73it/s]\n"
          ]
        },
        {
          "name": "stdout",
          "output_type": "stream",
          "text": [
            "Epoch [1/20] - Loss: 0.0251\n",
            "Validation Loss: 0.0209\n",
            "working on epoch: 1\n"
          ]
        },
        {
          "name": "stderr",
          "output_type": "stream",
          "text": [
            "100%|██████████| 467/467 [00:03<00:00, 116.78it/s]\n"
          ]
        },
        {
          "name": "stdout",
          "output_type": "stream",
          "text": [
            "Epoch [2/20] - Loss: 0.0165\n",
            "Validation Loss: 0.0166\n",
            "working on epoch: 2\n"
          ]
        },
        {
          "name": "stderr",
          "output_type": "stream",
          "text": [
            "100%|██████████| 467/467 [00:02<00:00, 159.70it/s]\n"
          ]
        },
        {
          "name": "stdout",
          "output_type": "stream",
          "text": [
            "Epoch [3/20] - Loss: 0.0144\n",
            "Validation Loss: 0.0141\n",
            "working on epoch: 3\n"
          ]
        },
        {
          "name": "stderr",
          "output_type": "stream",
          "text": [
            "100%|██████████| 467/467 [00:03<00:00, 154.43it/s]\n"
          ]
        },
        {
          "name": "stdout",
          "output_type": "stream",
          "text": [
            "Epoch [4/20] - Loss: 0.0129\n",
            "Validation Loss: 0.0131\n",
            "working on epoch: 4\n"
          ]
        },
        {
          "name": "stderr",
          "output_type": "stream",
          "text": [
            "100%|██████████| 467/467 [00:02<00:00, 159.96it/s]\n"
          ]
        },
        {
          "name": "stdout",
          "output_type": "stream",
          "text": [
            "Epoch [5/20] - Loss: 0.0125\n",
            "Validation Loss: 0.0127\n",
            "working on epoch: 5\n"
          ]
        },
        {
          "name": "stderr",
          "output_type": "stream",
          "text": [
            "100%|██████████| 467/467 [00:04<00:00, 116.66it/s]\n"
          ]
        },
        {
          "name": "stdout",
          "output_type": "stream",
          "text": [
            "Epoch [6/20] - Loss: 0.0118\n",
            "Validation Loss: 0.0122\n",
            "working on epoch: 6\n"
          ]
        },
        {
          "name": "stderr",
          "output_type": "stream",
          "text": [
            "100%|██████████| 467/467 [00:02<00:00, 157.68it/s]\n"
          ]
        },
        {
          "name": "stdout",
          "output_type": "stream",
          "text": [
            "Epoch [7/20] - Loss: 0.0117\n",
            "Validation Loss: 0.0117\n",
            "working on epoch: 7\n"
          ]
        },
        {
          "name": "stderr",
          "output_type": "stream",
          "text": [
            "100%|██████████| 467/467 [00:02<00:00, 160.15it/s]\n"
          ]
        },
        {
          "name": "stdout",
          "output_type": "stream",
          "text": [
            "Epoch [8/20] - Loss: 0.0112\n",
            "Validation Loss: 0.0113\n",
            "working on epoch: 8\n"
          ]
        },
        {
          "name": "stderr",
          "output_type": "stream",
          "text": [
            "100%|██████████| 467/467 [00:03<00:00, 133.39it/s]\n"
          ]
        },
        {
          "name": "stdout",
          "output_type": "stream",
          "text": [
            "Epoch [9/20] - Loss: 0.0108\n",
            "Validation Loss: 0.0110\n",
            "working on epoch: 9\n"
          ]
        },
        {
          "name": "stderr",
          "output_type": "stream",
          "text": [
            "100%|██████████| 467/467 [00:03<00:00, 132.49it/s]\n"
          ]
        },
        {
          "name": "stdout",
          "output_type": "stream",
          "text": [
            "Epoch [10/20] - Loss: 0.0107\n",
            "Validation Loss: 0.0124\n",
            "working on epoch: 10\n"
          ]
        },
        {
          "name": "stderr",
          "output_type": "stream",
          "text": [
            "100%|██████████| 467/467 [00:02<00:00, 159.35it/s]\n"
          ]
        },
        {
          "name": "stdout",
          "output_type": "stream",
          "text": [
            "Epoch [11/20] - Loss: 0.0105\n",
            "Validation Loss: 0.0107\n",
            "working on epoch: 11\n"
          ]
        },
        {
          "name": "stderr",
          "output_type": "stream",
          "text": [
            "100%|██████████| 467/467 [00:02<00:00, 156.09it/s]\n"
          ]
        },
        {
          "name": "stdout",
          "output_type": "stream",
          "text": [
            "Epoch [12/20] - Loss: 0.0102\n",
            "Validation Loss: 0.0118\n",
            "working on epoch: 12\n"
          ]
        },
        {
          "name": "stderr",
          "output_type": "stream",
          "text": [
            "100%|██████████| 467/467 [00:04<00:00, 112.75it/s]\n"
          ]
        },
        {
          "name": "stdout",
          "output_type": "stream",
          "text": [
            "Epoch [13/20] - Loss: 0.0100\n",
            "Validation Loss: 0.0108\n",
            "working on epoch: 13\n"
          ]
        },
        {
          "name": "stderr",
          "output_type": "stream",
          "text": [
            "100%|██████████| 467/467 [00:02<00:00, 157.34it/s]\n"
          ]
        },
        {
          "name": "stdout",
          "output_type": "stream",
          "text": [
            "Epoch [14/20] - Loss: 0.0100\n",
            "Validation Loss: 0.0103\n",
            "working on epoch: 14\n"
          ]
        },
        {
          "name": "stderr",
          "output_type": "stream",
          "text": [
            "100%|██████████| 467/467 [00:02<00:00, 156.56it/s]\n"
          ]
        },
        {
          "name": "stdout",
          "output_type": "stream",
          "text": [
            "Epoch [15/20] - Loss: 0.0097\n",
            "Validation Loss: 0.0106\n",
            "working on epoch: 15\n"
          ]
        },
        {
          "name": "stderr",
          "output_type": "stream",
          "text": [
            "100%|██████████| 467/467 [00:03<00:00, 128.18it/s]\n"
          ]
        },
        {
          "name": "stdout",
          "output_type": "stream",
          "text": [
            "Epoch [16/20] - Loss: 0.0097\n",
            "Validation Loss: 0.0105\n",
            "working on epoch: 16\n"
          ]
        },
        {
          "name": "stderr",
          "output_type": "stream",
          "text": [
            "100%|██████████| 467/467 [00:04<00:00, 94.08it/s] \n"
          ]
        },
        {
          "name": "stdout",
          "output_type": "stream",
          "text": [
            "Epoch [17/20] - Loss: 0.0095\n",
            "Validation Loss: 0.0104\n",
            "working on epoch: 17\n"
          ]
        },
        {
          "name": "stderr",
          "output_type": "stream",
          "text": [
            "100%|██████████| 467/467 [00:02<00:00, 158.76it/s]\n"
          ]
        },
        {
          "name": "stdout",
          "output_type": "stream",
          "text": [
            "Epoch [18/20] - Loss: 0.0096\n",
            "Validation Loss: 0.0101\n",
            "working on epoch: 18\n"
          ]
        },
        {
          "name": "stderr",
          "output_type": "stream",
          "text": [
            "100%|██████████| 467/467 [00:02<00:00, 156.21it/s]\n"
          ]
        },
        {
          "name": "stdout",
          "output_type": "stream",
          "text": [
            "Epoch [19/20] - Loss: 0.0093\n",
            "Validation Loss: 0.0100\n",
            "working on epoch: 19\n"
          ]
        },
        {
          "name": "stderr",
          "output_type": "stream",
          "text": [
            "100%|██████████| 467/467 [00:04<00:00, 114.06it/s]\n"
          ]
        },
        {
          "name": "stdout",
          "output_type": "stream",
          "text": [
            "Epoch [20/20] - Loss: 0.0092\n",
            "Validation Loss: 0.0105\n"
          ]
        },
        {
          "data": {
            "image/png": "[encoded data removed]",
            "text/plain": [
              "<Figure size 640x480 with 1 Axes>"
            ]
          },
          "metadata": {},
          "output_type": "display_data"
        }
      ],
      "source": [
        "import torch.optim as optim\n",
        "import matplotlib.pyplot as plt\n",
        "from tqdm import tqdm # progress bar stuff\n",
        "import os\n",
        "os.environ['CUDA_LAUNCH_BLOCKING'] = \"1\"\n",
        "\n",
        "device = torch.device(\"cuda\" if torch.cuda.is_available() else \"cpu\")\n",
        "model = RNNModel().to(device)\n",
        "criterion = nn.MSELoss()\n",
        "optimizer = optim.Adam(model.parameters(), lr=1e-3)\n",
        "\n",
        "train_losses = []\n",
        "val_losses = []\n",
        "\n",
        "num_epochs = 20\n",
        "for epoch in range(num_epochs):\n",
        "  print(f\"working on epoch: {epoch}\")\n",
        "  model.train()\n",
        "  running_loss = 0.0\n",
        "  for i, (inputs, labels) in enumerate(tqdm(train_loader)):\n",
        "    inputs = inputs.permute(0, 2, 1)\n",
        "    inputs, labels = inputs.to(device), labels.to(device)\n",
        "    \n",
        "    optimizer.zero_grad()\n",
        "    outputs = model(inputs)\n",
        "    loss = criterion(outputs.squeeze(), labels)\n",
        "    loss.backward()\n",
        "    optimizer.step()\n",
        "    \n",
        "    running_loss += loss.item()\n",
        "\n",
        "  epoch_loss = running_loss / (i + 1)\n",
        "  train_losses.append(epoch_loss)\n",
        "  print(f\"Epoch [{epoch + 1}/{num_epochs}] - Loss: {epoch_loss:.4f}\")\n",
        "\n",
        "  model.eval()\n",
        "  val_running_loss = 0.0\n",
        "  with torch.no_grad():\n",
        "    for inputs, labels in val_loader:\n",
        "      inputs = inputs.permute(0, 2, 1)\n",
        "      inputs, labels = inputs.to(device), labels.to(device)\n",
        "      \n",
        "      outputs = model(inputs)\n",
        "      loss = criterion(outputs.squeeze(), labels)\n",
        "      val_running_loss += loss.item()\n",
        "\n",
        "  val_epoch_loss = val_running_loss / len(val_loader)\n",
        "  val_losses.append(val_epoch_loss)\n",
        "  print(f\"Validation Loss: {val_epoch_loss:.4f}\")\n",
        "\n",
        "# Plotting the training and validation losses\n",
        "plt.plot(train_losses, label=\"Training Loss\")\n",
        "plt.plot(val_losses, label=\"Validation Loss\")\n",
        "plt.xlabel(\"Epoch\")\n",
        "plt.ylabel(\"Loss\")\n",
        "plt.title(\"Training and Validation Losses\")\n",
        "plt.legend()\n",
        "plt.show()"
      ]
    },
    {
      "cell_type": "code",
      "execution_count": null,
      "metadata": {
        "id": "raCzWu69ues0"
      },
      "outputs": [],
      "source": [
        "# Assuming the directory path is saved in the variable `data_directory`\n",
        "data_directory = \"/content/drive/MyDrive/\"\n",
        "model_weights_path = os.path.join(data_directory, \"rnn_model_weights.pth\")\n",
        "\n",
        "# # Save the model weights\n",
        "# torch.save(model.state_dict(), model_weights_path)\n"
      ]
    },
    {
      "cell_type": "markdown",
      "metadata": {
        "id": "bBbejrlAk36M"
      },
      "source": [
        "#### Load model back"
      ]
    },
    {
      "cell_type": "code",
      "execution_count": null,
      "metadata": {
        "colab": {
          "base_uri": "https://localhost:8080/"
        },
        "id": "AMxan8EhlHzH",
        "outputId": "af5d18ca-ddd4-4d27-d413-f0241bd64779"
      },
      "outputs": [
        {
          "data": {
            "text/plain": [
              "RNNModel(\n",
              "  (lstm): LSTM(20, 64, batch_first=True)\n",
              "  (fc): Linear(in_features=64, out_features=1, bias=True)\n",
              ")"
            ]
          },
          "execution_count": 13,
          "metadata": {},
          "output_type": "execute_result"
        }
      ],
      "source": [
        "# Create a new instance of the RNN model\n",
        "loaded_model = RNNModel()\n",
        "\n",
        "# Load the model weights from the saved state dictionary\n",
        "loaded_model.load_state_dict(torch.load(model_weights_path))\n",
        "\n",
        "# Move the model to the device (if you used GPU while training)\n",
        "device = torch.device(\"cuda\" if torch.cuda.is_available() else \"cpu\")\n",
        "loaded_model.to(device)\n",
        "\n",
        "# Set the model to evaluation mode\n",
        "loaded_model.eval()\n"
      ]
    },
    {
      "cell_type": "markdown",
      "metadata": {
        "id": "g0alBY4Pk1A4"
      },
      "source": [
        "#### Test model on sample data"
      ]
    },
    {
      "cell_type": "code",
      "execution_count": null,
      "metadata": {
        "colab": {
          "base_uri": "https://localhost:8080/"
        },
        "id": "nSRuZwCkk0Jc",
        "outputId": "74d4c377-0569-4410-c375-808c9c585126"
      },
      "outputs": [
        {
          "name": "stdout",
          "output_type": "stream",
          "text": [
            "True label: 0.247\n",
            "Outputted label: 0.023576393723487854\n"
          ]
        }
      ],
      "source": [
        "import torch\n",
        "\n",
        "# Choose the index of the sample you want to examine\n",
        "sample_index = 1010\n",
        "\n",
        "# Load the saved MFCC tensor\n",
        "myDrive = \"/content/drive/MyDrive/\"\n",
        "tensor_file = os.path.join(os.path.dirname(myDrive), \"mfcc_tensor.pt\")\n",
        "loaded_mfcc_tensor = torch.load(tensor_file).squeeze(1)\n",
        "\n",
        "# Extract the input features (MFCCs) and the true label for the sample\n",
        "sample_mfcc = loaded_mfcc_tensor[sample_index].unsqueeze(0)\n",
        "true_label = all_tracks.iloc[sample_index][\"danceability\"]\n",
        "\n",
        "# Pass the input features through the trained RNN model to get the outputted label\n",
        "loaded_model.eval()\n",
        "with torch.no_grad():\n",
        "  sample_input = sample_mfcc.permute(0, 2, 1).to(device)\n",
        "  output_label = loaded_model(sample_input).item()\n",
        "\n",
        "# Print both the true label and the outputted label\n",
        "print(f\"True label: {true_label}\")\n",
        "print(f\"Outputted label: {output_label}\")\n"
      ]
    },
    {
      "cell_type": "code",
      "execution_count": null,
      "metadata": {
        "colab": {
          "base_uri": "https://localhost:8080/"
        },
        "id": "6Nt6cW5iuFVR",
        "outputId": "71151f2f-ea1d-4f0f-875e-3b3daa20faac"
      },
      "outputs": [
        {
          "name": "stdout",
          "output_type": "stream",
          "text": [
            "MSE: 0.0104\n",
            "RMSE: 0.1018\n",
            "MAE: 0.0786\n"
          ]
        }
      ],
      "source": [
        "from sklearn.metrics import mean_squared_error, mean_absolute_error\n",
        "import numpy as np\n",
        "\n",
        "model.eval()\n",
        "all_outputs = []\n",
        "all_labels = []\n",
        "\n",
        "with torch.no_grad():\n",
        "  for inputs, labels in test_loader:\n",
        "    inputs = inputs.permute(0, 2, 1)\n",
        "    inputs, labels = inputs.to(device), labels.to(device)\n",
        "\n",
        "    outputs = model(inputs)\n",
        "    all_outputs.extend(outputs.squeeze().tolist())\n",
        "    all_labels.extend(labels.tolist())\n",
        "\n",
        "mse = mean_squared_error(all_labels, all_outputs)\n",
        "rmse = np.sqrt(mse)\n",
        "mae = mean_absolute_error(all_labels, all_outputs)\n",
        "\n",
        "print(f\"MSE: {mse:.4f}\")\n",
        "print(f\"RMSE: {rmse:.4f}\")\n",
        "print(f\"MAE: {mae:.4f}\")\n"
      ]
    },
    {
      "cell_type": "code",
      "execution_count": null,
      "metadata": {
        "colab": {
          "base_uri": "https://localhost:8080/"
        },
        "id": "Ec7hQGtkmnAK",
        "outputId": "3c4ef628-03ec-4af7-dd3a-94ec277bded1"
      },
      "outputs": [
        {
          "name": "stdout",
          "output_type": "stream",
          "text": [
            "Root Mean Squared Error: 0.1018\n",
            "R-squared: 0.6682\n",
            "Pearson's Correlation Coefficient: 0.8297\n"
          ]
        }
      ],
      "source": [
        "import numpy as np\n",
        "from scipy.stats import pearsonr\n",
        "from sklearn.metrics import r2_score\n",
        "\n",
        "true_labels = []\n",
        "predicted_labels = []\n",
        "\n",
        "loaded_model.eval()\n",
        "with torch.no_grad():\n",
        "  for inputs, labels in test_loader:\n",
        "    inputs = inputs.permute(0, 2, 1).to(device)\n",
        "    labels = labels.to(device)\n",
        "    \n",
        "    outputs = loaded_model(inputs)\n",
        "    \n",
        "    true_labels.extend(labels.cpu().numpy())\n",
        "    predicted_labels.extend(outputs.squeeze().cpu().numpy())\n",
        "\n",
        "true_labels = np.array(true_labels)\n",
        "predicted_labels = np.array(predicted_labels)\n",
        "\n",
        "rmse = np.sqrt(np.mean((true_labels - predicted_labels)**2))\n",
        "r2 = r2_score(true_labels, predicted_labels)\n",
        "pearson_corr, _ = pearsonr(true_labels, predicted_labels)\n",
        "\n",
        "print(f\"Root Mean Squared Error: {rmse:.4f}\")\n",
        "print(f\"R-squared: {r2:.4f}\")\n",
        "print(f\"Pearson's Correlation Coefficient: {pearson_corr:.4f}\")\n"
      ]
    },
    {
      "cell_type": "markdown",
      "metadata": {
        "id": "wwsYstvtqbQf"
      },
      "source": [
        "The model was assessed using various accuracy metrics, and the results are as follows:\n",
        "\n",
        "Mean Squared Error (MSE): The MSE value of 0.0104 reflects the average squared difference between the true labels and the predicted labels. While this metric is commonly used, it may not be the most suitable choice for our specific problem, given that danceability values range between 0 and 1. In this case, MSE can be sensitive to outliers and may exaggerate the model's errors. Moreover, it can be challenging to interpret the results intuitively due to the squaring operation.\n",
        "\n",
        "Root Mean Squared Error (RMSE): The RMSE value of 0.1018 indicates that, on average, the model's predictions deviate from the true labels by 0.1018. Considering the danceability values range between 0 and 1, the model demonstrates a decent performance. However, the specific application and desired level of accuracy may necessitate further improvement. RMSE is useful for understanding the average magnitude of the errors and penalizes larger errors more heavily.\n",
        "\n",
        "Mean Absolute Error (MAE): The MAE value of 0.0786 represents the average absolute difference between the true labels and the predicted labels. MAE is a more intuitive metric than MSE, as it directly quantifies the average magnitude of errors without squaring them. In this case, the model's predictions deviate from the true labels by an average of 0.0786, which is relatively low given the [0,1] interval of danceability values.\n",
        "\n",
        "R-squared: The R-squared value of 0.6682 shows that the RNN model explains approximately 66.82% of the variability in danceability values. This moderate value suggests that the model captures a significant portion of the variance in danceability, but there is still room for improvement. R-squared measures the proportion of the variance in the dependent variable that is predictable from the independent variables and is commonly used to evaluate the goodness-of-fit of a model.\n",
        "\n",
        "Pearson's Correlation Coefficient: With a value of 0.8297, the Pearson's Correlation Coefficient demonstrates a strong positive linear relationship between the true labels and the predicted labels. This result implies that as the true danceability values increase, the model's predictions also tend to increase, and vice versa. This is a promising sign for the model's performance. Pearson's Correlation Coefficient measures the linear relationship between two variables, with values ranging from -1 (perfect negative correlation) to 1 (perfect positive correlation).\n"
      ]
    },
    {
      "cell_type": "markdown",
      "metadata": {
        "id": "bFvGi3DYrpgj"
      },
      "source": [
        "### Model improvement and training on all labels simultaneously"
      ]
    },
    {
      "cell_type": "code",
      "execution_count": null,
      "metadata": {
        "id": "FHqCbhUroeUU"
      },
      "outputs": [],
      "source": [
        "import torch.nn as nn\n",
        "\n",
        "class MultiTaskRNNModel(nn.Module):\n",
        "  def __init__(self, input_size=20, hidden_size=64, num_layers=1, num_outputs=5):\n",
        "    super(MultiTaskRNNModel, self).__init__()\n",
        "    self.hidden_size = hidden_size\n",
        "    self.num_layers = num_layers\n",
        "    self.num_outputs = num_outputs\n",
        "    self.lstm = nn.LSTM(input_size, hidden_size, num_layers, batch_first=True)\n",
        "    self.fc = nn.Linear(hidden_size, num_outputs)\n",
        "    self.sigmoid = nn.Sigmoid()\n",
        "\n",
        "  def forward(self, x):\n",
        "    h0 = torch.zeros(self.num_layers, x.size(0), self.hidden_size).to(x.device)\n",
        "    c0 = torch.zeros(self.num_layers, x.size(0), self.hidden_size).to(x.device)\n",
        "    out, _ = self.lstm(x, (h0, c0))\n",
        "    out = self.fc(out[:, -1, :])\n",
        "    out = self.sigmoid(out)\n",
        "\n",
        "    # Multiply by 1000, round, and then divide by 1000 for precision purposes\n",
        "    #out = torch.round(out * 1000) / 1000\n",
        "\n",
        "    return out\n"
      ]
    },
    {
      "cell_type": "code",
      "execution_count": null,
      "metadata": {
        "colab": {
          "base_uri": "https://localhost:8080/"
        },
        "id": "bZlbYdLGsstQ",
        "outputId": "e08176b7-4160-493e-d224-b87e7e57098f"
      },
      "outputs": [
        {
          "name": "stdout",
          "output_type": "stream",
          "text": [
            "Loaded MFCC tensor shape: torch.Size([21325, 20, 160])\n"
          ]
        }
      ],
      "source": [
        "class AudioDataset(torch.utils.data.Dataset):\n",
        "  def __init__(self, mfcc_tensor, df):\n",
        "    self.df = df\n",
        "    self.mfcc = mfcc_tensor\n",
        "    self.mean = self.mfcc.mean()\n",
        "    self.std = self.mfcc.std()\n",
        "\n",
        "    # Standardize MFCC tensor\n",
        "    self.mfcc = (self.mfcc - self.mean) / self.std\n",
        "\n",
        "  def __len__(self):\n",
        "    return len(self.df)\n",
        "\n",
        "  def __getitem__(self, idx):\n",
        "    labels = self.df.iloc[idx][['danceability', 'instrumentalness', 'acousticness', 'energy', 'speechiness']].astype(float).values\n",
        "    label = torch.tensor(labels, dtype=torch.float32)\n",
        "    mfcc = self.mfcc[idx]\n",
        "    return mfcc, label\n",
        "\n",
        "import pandas as pd\n",
        "from sklearn.model_selection import train_test_split\n",
        "from torch.utils.data import DataLoader\n",
        "\n",
        "# Load the MFCC tensor\n",
        "myDrive = \"/content/drive/MyDrive/\"\n",
        "tensor_file = os.path.join(os.path.dirname(myDrive), \"mfcc_tensor.pt\")\n",
        "loaded_mfcc_tensor = torch.load(tensor_file).squeeze(1)\n",
        "print(\"Loaded MFCC tensor shape:\", loaded_mfcc_tensor.shape)\n",
        "\n",
        "# Split all_tracks and the loaded MFCC tensor\n",
        "train_tracks, test_val_tracks = train_test_split(all_tracks, test_size=0.3, random_state=42)\n",
        "test_tracks, val_tracks = train_test_split(test_val_tracks, test_size=0.5, random_state=42)\n",
        "\n",
        "train_mfcc, test_val_mfcc = train_test_split(loaded_mfcc_tensor, test_size=0.3, random_state=42)\n",
        "test_mfcc, val_mfcc = train_test_split(test_val_mfcc, test_size=0.5, random_state=42)\n",
        "\n",
        "# Create the datasets\n",
        "train_dataset = AudioDataset(train_mfcc, train_tracks)\n",
        "val_dataset = AudioDataset(val_mfcc, val_tracks)\n",
        "test_dataset = AudioDataset(test_mfcc, test_tracks)\n",
        "\n",
        "# Create the data loaders\n",
        "train_loader = DataLoader(train_dataset, batch_size=32, shuffle=True, num_workers=0)\n",
        "val_loader = DataLoader(val_dataset, batch_size=32, shuffle=False, num_workers=0)\n",
        "test_loader = DataLoader(test_dataset, batch_size=32, shuffle=False, num_workers=0)\n"
      ]
    },
    {
      "cell_type": "code",
      "execution_count": null,
      "metadata": {
        "colab": {
          "base_uri": "https://localhost:8080/",
          "height": 1000
        },
        "id": "JygFjFItttpX",
        "outputId": "da711edd-8f1d-481c-b6c5-43514eb9ece9"
      },
      "outputs": [
        {
          "name": "stdout",
          "output_type": "stream",
          "text": [
            "working on epoch: 0\n"
          ]
        },
        {
          "name": "stderr",
          "output_type": "stream",
          "text": [
            "100%|██████████| 467/467 [00:25<00:00, 18.47it/s]\n"
          ]
        },
        {
          "name": "stdout",
          "output_type": "stream",
          "text": [
            "Epoch [1/20] - Loss: 0.0156\n",
            "Validation Loss: 0.0139\n",
            "working on epoch: 1\n"
          ]
        },
        {
          "name": "stderr",
          "output_type": "stream",
          "text": [
            "100%|██████████| 467/467 [00:12<00:00, 36.03it/s]\n"
          ]
        },
        {
          "name": "stdout",
          "output_type": "stream",
          "text": [
            "Epoch [2/20] - Loss: 0.0135\n",
            "Validation Loss: 0.0130\n",
            "working on epoch: 2\n"
          ]
        },
        {
          "name": "stderr",
          "output_type": "stream",
          "text": [
            "100%|██████████| 467/467 [00:12<00:00, 36.19it/s]\n"
          ]
        },
        {
          "name": "stdout",
          "output_type": "stream",
          "text": [
            "Epoch [3/20] - Loss: 0.0130\n",
            "Validation Loss: 0.0134\n",
            "working on epoch: 3\n"
          ]
        },
        {
          "name": "stderr",
          "output_type": "stream",
          "text": [
            "100%|██████████| 467/467 [00:13<00:00, 35.67it/s]\n"
          ]
        },
        {
          "name": "stdout",
          "output_type": "stream",
          "text": [
            "Epoch [4/20] - Loss: 0.0130\n",
            "Validation Loss: 0.0136\n",
            "working on epoch: 4\n"
          ]
        },
        {
          "name": "stderr",
          "output_type": "stream",
          "text": [
            "100%|██████████| 467/467 [00:12<00:00, 35.93it/s]\n"
          ]
        },
        {
          "name": "stdout",
          "output_type": "stream",
          "text": [
            "Epoch [5/20] - Loss: 0.0130\n",
            "Validation Loss: 0.0127\n",
            "working on epoch: 5\n"
          ]
        },
        {
          "name": "stderr",
          "output_type": "stream",
          "text": [
            "100%|██████████| 467/467 [00:12<00:00, 36.03it/s]\n"
          ]
        },
        {
          "name": "stdout",
          "output_type": "stream",
          "text": [
            "Epoch [6/20] - Loss: 0.0129\n",
            "Validation Loss: 0.0133\n",
            "working on epoch: 6\n"
          ]
        },
        {
          "name": "stderr",
          "output_type": "stream",
          "text": [
            "100%|██████████| 467/467 [00:12<00:00, 36.17it/s]\n"
          ]
        },
        {
          "name": "stdout",
          "output_type": "stream",
          "text": [
            "Epoch [7/20] - Loss: 0.0130\n",
            "Validation Loss: 0.0134\n",
            "working on epoch: 7\n"
          ]
        },
        {
          "name": "stderr",
          "output_type": "stream",
          "text": [
            "100%|██████████| 467/467 [00:13<00:00, 34.23it/s]\n"
          ]
        },
        {
          "name": "stdout",
          "output_type": "stream",
          "text": [
            "Epoch [8/20] - Loss: 0.0134\n",
            "Validation Loss: 0.0138\n",
            "working on epoch: 8\n"
          ]
        },
        {
          "name": "stderr",
          "output_type": "stream",
          "text": [
            "100%|██████████| 467/467 [00:13<00:00, 35.14it/s]\n"
          ]
        },
        {
          "name": "stdout",
          "output_type": "stream",
          "text": [
            "Epoch [9/20] - Loss: 0.0130\n",
            "Validation Loss: 0.0150\n",
            "working on epoch: 9\n"
          ]
        },
        {
          "name": "stderr",
          "output_type": "stream",
          "text": [
            "100%|██████████| 467/467 [00:12<00:00, 36.06it/s]\n"
          ]
        },
        {
          "name": "stdout",
          "output_type": "stream",
          "text": [
            "Epoch [10/20] - Loss: 0.0122\n",
            "Validation Loss: 0.0139\n",
            "working on epoch: 10\n"
          ]
        },
        {
          "name": "stderr",
          "output_type": "stream",
          "text": [
            "100%|██████████| 467/467 [00:26<00:00, 17.66it/s]\n"
          ]
        },
        {
          "name": "stdout",
          "output_type": "stream",
          "text": [
            "Epoch [11/20] - Loss: 0.0120\n",
            "Validation Loss: 0.0124\n",
            "working on epoch: 11\n"
          ]
        },
        {
          "name": "stderr",
          "output_type": "stream",
          "text": [
            "100%|██████████| 467/467 [00:12<00:00, 37.99it/s]\n"
          ]
        },
        {
          "name": "stdout",
          "output_type": "stream",
          "text": [
            "Epoch [12/20] - Loss: 0.0119\n",
            "Validation Loss: 0.0122\n",
            "working on epoch: 12\n"
          ]
        },
        {
          "name": "stderr",
          "output_type": "stream",
          "text": [
            "100%|██████████| 467/467 [00:12<00:00, 37.59it/s]\n"
          ]
        },
        {
          "name": "stdout",
          "output_type": "stream",
          "text": [
            "Epoch [13/20] - Loss: 0.0118\n",
            "Validation Loss: 0.0119\n",
            "working on epoch: 13\n"
          ]
        },
        {
          "name": "stderr",
          "output_type": "stream",
          "text": [
            "100%|██████████| 467/467 [00:12<00:00, 37.47it/s]\n"
          ]
        },
        {
          "name": "stdout",
          "output_type": "stream",
          "text": [
            "Epoch [14/20] - Loss: 0.0117\n",
            "Validation Loss: 0.0116\n",
            "working on epoch: 14\n"
          ]
        },
        {
          "name": "stderr",
          "output_type": "stream",
          "text": [
            "100%|██████████| 467/467 [00:12<00:00, 38.16it/s]\n"
          ]
        },
        {
          "name": "stdout",
          "output_type": "stream",
          "text": [
            "Epoch [15/20] - Loss: 0.0117\n",
            "Validation Loss: 0.0115\n",
            "working on epoch: 15\n"
          ]
        },
        {
          "name": "stderr",
          "output_type": "stream",
          "text": [
            "100%|██████████| 467/467 [00:12<00:00, 38.03it/s]\n"
          ]
        },
        {
          "name": "stdout",
          "output_type": "stream",
          "text": [
            "Epoch [16/20] - Loss: 0.0121\n",
            "Validation Loss: 0.0117\n",
            "working on epoch: 16\n"
          ]
        },
        {
          "name": "stderr",
          "output_type": "stream",
          "text": [
            "100%|██████████| 467/467 [00:12<00:00, 36.43it/s]\n"
          ]
        },
        {
          "name": "stdout",
          "output_type": "stream",
          "text": [
            "Epoch [17/20] - Loss: 0.0116\n",
            "Validation Loss: 0.0123\n",
            "working on epoch: 17\n"
          ]
        },
        {
          "name": "stderr",
          "output_type": "stream",
          "text": [
            "100%|██████████| 467/467 [00:12<00:00, 37.13it/s]\n"
          ]
        },
        {
          "name": "stdout",
          "output_type": "stream",
          "text": [
            "Epoch [18/20] - Loss: 0.0119\n",
            "Validation Loss: 0.0120\n",
            "working on epoch: 18\n"
          ]
        },
        {
          "name": "stderr",
          "output_type": "stream",
          "text": [
            "100%|██████████| 467/467 [00:12<00:00, 37.66it/s]\n"
          ]
        },
        {
          "name": "stdout",
          "output_type": "stream",
          "text": [
            "Epoch [19/20] - Loss: 0.0118\n",
            "Validation Loss: 0.0115\n",
            "working on epoch: 19\n"
          ]
        },
        {
          "name": "stderr",
          "output_type": "stream",
          "text": [
            "100%|██████████| 467/467 [00:14<00:00, 32.08it/s]\n"
          ]
        },
        {
          "name": "stdout",
          "output_type": "stream",
          "text": [
            "Epoch [20/20] - Loss: 0.0118\n",
            "Validation Loss: 0.0118\n"
          ]
        },
        {
          "data": {
            "image/png": "[encoded data removed]",
            "text/plain": [
              "<Figure size 640x480 with 1 Axes>"
            ]
          },
          "metadata": {},
          "output_type": "display_data"
        }
      ],
      "source": [
        "import torch.optim as optim\n",
        "import matplotlib.pyplot as plt\n",
        "from tqdm import tqdm # progress bar stuff\n",
        "import os\n",
        "os.environ['CUDA_LAUNCH_BLOCKING'] = \"1\"\n",
        "\n",
        "device = torch.device(\"cuda\" if torch.cuda.is_available() else \"cpu\")\n",
        "model = MultiTaskRNNModel().to(device)\n",
        "criterion = nn.SmoothL1Loss()\n",
        "optimizer = optim.Adam(model.parameters(), lr=1e-1)\n",
        "\n",
        "train_losses = []\n",
        "val_losses = []\n",
        "\n",
        "num_epochs = 20\n",
        "for epoch in range(num_epochs):\n",
        "  print(f\"working on epoch: {epoch}\")\n",
        "  model.train()\n",
        "  running_loss = 0.0\n",
        "  for i, (inputs, labels) in enumerate(tqdm(train_loader)):\n",
        "    inputs = inputs.permute(0, 2, 1)\n",
        "    inputs, labels = inputs.to(device), labels.to(device)\n",
        "    \n",
        "    optimizer.zero_grad()\n",
        "    outputs = model(inputs)\n",
        "    loss = criterion(outputs, labels)\n",
        "    loss.backward()\n",
        "    optimizer.step()\n",
        "    \n",
        "    running_loss += loss.item()\n",
        "\n",
        "  epoch_loss = running_loss / (i + 1)\n",
        "  train_losses.append(epoch_loss)\n",
        "  print(f\"Epoch [{epoch + 1}/{num_epochs}] - Loss: {epoch_loss:.4f}\")\n",
        "\n",
        "  model.eval()\n",
        "  val_running_loss = 0.0\n",
        "  with torch.no_grad():\n",
        "    for inputs, labels in val_loader:\n",
        "      inputs = inputs.permute(0, 2, 1)\n",
        "      inputs, labels = inputs.to(device), labels.to(device)\n",
        "      \n",
        "      outputs = model(inputs)\n",
        "      loss = criterion(outputs, labels)\n",
        "      val_running_loss += loss.item()\n",
        "\n",
        "  val_epoch_loss = val_running_loss / len(val_loader)\n",
        "  val_losses.append(val_epoch_loss)\n",
        "  print(f\"Validation Loss: {val_epoch_loss:.4f}\")\n",
        "\n",
        "# Plotting the training and validation losses\n",
        "plt.plot(train_losses, label=\"Training Loss\")\n",
        "plt.plot(val_losses, label=\"Validation Loss\")\n",
        "plt.xlabel(\"Epoch\")\n",
        "plt.ylabel(\"Loss\")\n",
        "plt.title(\"Training and Validation Losses\")\n",
        "plt.legend()\n",
        "plt.show()\n"
      ]
    },
    {
      "cell_type": "code",
      "execution_count": null,
      "metadata": {
        "id": "sKCBOszhu3FS"
      },
      "outputs": [],
      "source": [
        "# Assuming the directory path is saved in the variable `data_directory`\n",
        "data_directory = \"/content/drive/MyDrive/\"\n",
        "model_weights_path = os.path.join(data_directory, \"multi_task_rnn_model_weights.pth\")\n",
        "\n",
        "# Save the model weights\n",
        "# torch.save(model.state_dict(), model_weights_path)\n"
      ]
    },
    {
      "cell_type": "markdown",
      "metadata": {
        "id": "W9econyapBDO"
      },
      "source": [
        "Load and evaluate multitask model"
      ]
    },
    {
      "cell_type": "code",
      "execution_count": null,
      "metadata": {
        "colab": {
          "base_uri": "https://localhost:8080/"
        },
        "id": "WcqttyJHpYCE",
        "outputId": "fef48f50-f2a1-45e8-86e6-aaa0b807a2c0"
      },
      "outputs": [
        {
          "data": {
            "text/plain": [
              "MultiTaskRNNModel(\n",
              "  (lstm): LSTM(20, 64, batch_first=True)\n",
              "  (fc): Linear(in_features=64, out_features=5, bias=True)\n",
              "  (sigmoid): Sigmoid()\n",
              ")"
            ]
          },
          "execution_count": 11,
          "metadata": {},
          "output_type": "execute_result"
        }
      ],
      "source": [
        "model_weights_path = os.path.join(data_directory, \"multi_task_rnn_model_weights.pth\")\n",
        "\n",
        "# Initialize the model with the same architecture\n",
        "device = torch.device(\"cuda\" if torch.cuda.is_available() else \"cpu\")\n",
        "loaded_model = MultiTaskRNNModel().to(device)\n",
        "\n",
        "# Load the model weights\n",
        "loaded_model.load_state_dict(torch.load(model_weights_path))\n",
        "\n",
        "# Set the model to evaluation mode\n",
        "loaded_model.eval()"
      ]
    },
    {
      "cell_type": "code",
      "execution_count": null,
      "metadata": {
        "colab": {
          "base_uri": "https://localhost:8080/"
        },
        "id": "kyUxWcryzelR",
        "outputId": "a6757087-71af-42ec-bce3-bab0b68377ce"
      },
      "outputs": [
        {
          "name": "stdout",
          "output_type": "stream",
          "text": [
            "danceability - True label: 0.247, Outputted label: 0.691\n",
            "instrumentalness - True label: 0.001, Outputted label: 0.005\n",
            "acousticness - True label: 0.045, Outputted label: 0.072\n",
            "energy - True label: 0.438, Outputted label: 0.858\n",
            "speechiness - True label: 0.036, Outputted label: 0.155\n"
          ]
        }
      ],
      "source": [
        "import torch\n",
        "\n",
        "# Choose the index of the sample you want to examine\n",
        "sample_index = 1010\n",
        "\n",
        "# Load the saved MFCC tensor\n",
        "myDrive = \"/content/drive/MyDrive/\"\n",
        "tensor_file = os.path.join(os.path.dirname(myDrive), \"mfcc_tensor.pt\")\n",
        "loaded_mfcc_tensor = torch.load(tensor_file).squeeze(1)\n",
        "\n",
        "# Extract the input features (MFCCs) and the true labels for the sample\n",
        "sample_mfcc = loaded_mfcc_tensor[sample_index].unsqueeze(0)\n",
        "true_labels = all_tracks.iloc[sample_index][['danceability', 'instrumentalness', 'acousticness', 'energy', 'speechiness']].values\n",
        "\n",
        "# Pass the input features through the trained RNN model to get the outputted labels\n",
        "loaded_model.eval()\n",
        "with torch.no_grad():\n",
        "  sample_input = sample_mfcc.permute(0, 2, 1).to(device)\n",
        "  output_labels = loaded_model(sample_input).cpu().numpy()[0]\n",
        "\n",
        "# Print both the true labels and the outputted labels\n",
        "labels = ['danceability', 'instrumentalness', 'acousticness', 'energy', 'speechiness']\n",
        "for i, label in enumerate(labels):\n",
        "  print(f\"{label} - True label: {true_labels[i]:.3f}, Outputted label: {output_labels[i]:.3f}\")\n"
      ]
    },
    {
      "cell_type": "code",
      "execution_count": null,
      "metadata": {
        "colab": {
          "base_uri": "https://localhost:8080/"
        },
        "id": "BTTnhuAcqHG0",
        "outputId": "62bbed77-2cc4-4670-da03-9f9d64b223b0"
      },
      "outputs": [
        {
          "name": "stdout",
          "output_type": "stream",
          "text": [
            "Evaluation metrics for danceability:\n",
            "Mean Squared Error: 0.0194\n",
            "Mean Absolute Error: 0.1109\n",
            "Root Mean Squared Error: 0.1393\n",
            "R-squared: 0.3783\n",
            "Pearson's Correlation Coefficient: 0.6151\n",
            "\n",
            "Evaluation metrics for instrumentalness:\n",
            "Mean Squared Error: 0.0520\n",
            "Mean Absolute Error: 0.1408\n",
            "Root Mean Squared Error: 0.2281\n",
            "R-squared: 0.5734\n",
            "Pearson's Correlation Coefficient: 0.7719\n",
            "\n",
            "Evaluation metrics for acousticness:\n",
            "Mean Squared Error: 0.0241\n",
            "Mean Absolute Error: 0.1134\n",
            "Root Mean Squared Error: 0.1552\n",
            "R-squared: 0.8093\n",
            "Pearson's Correlation Coefficient: 0.9014\n",
            "\n",
            "Evaluation metrics for energy:\n",
            "Mean Squared Error: 0.0179\n",
            "Mean Absolute Error: 0.1068\n",
            "Root Mean Squared Error: 0.1337\n",
            "R-squared: 0.7543\n",
            "Pearson's Correlation Coefficient: 0.8759\n",
            "\n",
            "Evaluation metrics for speechiness:\n",
            "Mean Squared Error: 0.0074\n",
            "Mean Absolute Error: 0.0541\n",
            "Root Mean Squared Error: 0.0862\n",
            "R-squared: 0.1204\n",
            "Pearson's Correlation Coefficient: 0.3632\n",
            "\n"
          ]
        }
      ],
      "source": [
        "import numpy as np\n",
        "from scipy.stats import pearsonr\n",
        "from sklearn.metrics import r2_score, mean_squared_error, mean_absolute_error\n",
        "\n",
        "true_labels = []\n",
        "predicted_labels = []\n",
        "\n",
        "loaded_model.eval()\n",
        "with torch.no_grad():\n",
        "  for inputs, labels in test_loader:\n",
        "    inputs = inputs.permute(0, 2, 1).to(device)\n",
        "    labels = labels.to(device)\n",
        "\n",
        "    outputs = loaded_model(inputs)\n",
        "\n",
        "    true_labels.extend(labels.cpu().numpy())\n",
        "    predicted_labels.extend(outputs.cpu().numpy())\n",
        "\n",
        "true_labels = np.array(true_labels)\n",
        "predicted_labels = np.array(predicted_labels)\n",
        "\n",
        "for i, label in enumerate(['danceability', 'instrumentalness', 'acousticness', 'energy', 'speechiness']):\n",
        "  mse = mean_squared_error(true_labels[:, i], predicted_labels[:, i])\n",
        "  mae = mean_absolute_error(true_labels[:, i], predicted_labels[:, i])\n",
        "  rmse = np.sqrt(mse)\n",
        "  r2 = r2_score(true_labels[:, i], predicted_labels[:, i])\n",
        "  pearson_corr, _ = pearsonr(true_labels[:, i], predicted_labels[:, i])\n",
        "\n",
        "  print(f\"Evaluation metrics for {label}:\")\n",
        "  print(f\"Mean Squared Error: {mse:.4f}\")\n",
        "  print(f\"Mean Absolute Error: {mae:.4f}\")\n",
        "  print(f\"Root Mean Squared Error: {rmse:.4f}\")\n",
        "  print(f\"R-squared: {r2:.4f}\")\n",
        "  print(f\"Pearson's Correlation Coefficient: {pearson_corr:.4f}\\n\")\n"
      ]
    },
    {
      "cell_type": "markdown",
      "metadata": {
        "id": "YXzR3ehMr-Os"
      },
      "source": [
        "The model's performance was assessed using various accuracy metrics for the five different labels: danceability, instrumentalness, acousticness, energy, and speechiness. Here, we analyze the significance of these metrics and draw conclusions on the model's performance for each label.\n",
        "\n",
        "Danceability:\n",
        "The model shows moderate performance in predicting danceability, with an R-squared value of 0.3783 and a Pearson's Correlation Coefficient of 0.6151. This suggests that there is room for improvement in capturing the variance in danceability.\n",
        "\n",
        "Instrumentalness:\n",
        "The model performs well in predicting instrumentalness, with an R-squared value of 0.5734 and a Pearson's Correlation Coefficient of 0.7719. These values indicate that the model is more successful in capturing the variance in instrumentalness compared to danceability.\n",
        "\n",
        "Acousticness:\n",
        "The model demonstrates the best performance in predicting acousticness, with an R-squared value of 0.8093 and a Pearson's Correlation Coefficient of 0.9014. This indicates that the model is highly effective in capturing the variance in acousticness.\n",
        "\n",
        "Energy:\n",
        "The model also shows strong performance in predicting energy, with an R-squared value of 0.7543 and a Pearson's Correlation Coefficient of 0.8759. The model effectively captures the variance in energy, only slightly less so than for acousticness.\n",
        "\n",
        "Speechiness:\n",
        "The model struggles the most with predicting speechiness, with an R-squared value of 0.1204 and a Pearson's Correlation Coefficient of 0.3632. This suggests that the model has difficulty capturing the variance in speechiness, and significant improvements are needed.\n",
        "\n",
        "In conclusion, the model demonstrates the best performance in predicting acousticness and energy, followed by instrumentalness. It shows moderate performance for danceability and struggles the most with speechiness. To improve the model's performance, it may be helpful to refine the model architecture, adjust hyperparameters, or incorporate additional features. It could also be beneficial to explore different models or techniques tailored to the specific characteristics of each label."
      ]
    }
  ],
  "metadata": {
    "accelerator": "GPU",
    "colab": {
      "provenance": []
    },
    "gpuClass": "standard",
    "kernelspec": {
      "display_name": "Python 3",
      "name": "python3"
    },
    "language_info": {
      "name": "python"
    }
  },
  "nbformat": 4,
  "nbformat_minor": 0
}