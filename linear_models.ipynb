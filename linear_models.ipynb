{
 "cells": [
  {
   "attachments": {},
   "cell_type": "markdown",
   "metadata": {},
   "source": [
    "### Linear Combination model\n",
    "\n",
    "##### Inputs: outputs of MFCC and numerical regression models\n",
    "\n",
    "##### Output: multi-labels: Danceability, Instrumentalness, Speechiness, Acuosticness, Energy "
   ]
  },
  {
   "cell_type": "code",
   "execution_count": 2,
   "metadata": {},
   "outputs": [],
   "source": [
    "import torch\n",
    "import torchaudio"
   ]
  },
  {
   "cell_type": "code",
   "execution_count": 3,
   "metadata": {},
   "outputs": [],
   "source": [
    "import os\n",
    "import requests\n",
    "import torch\n",
    "\n",
    "import torchaudio\n",
    "import torchaudio.functional as F\n",
    "import torchaudio.transforms as T\n",
    "\n",
    "import numpy as np\n",
    "import pandas as pd\n",
    "import matplotlib.pyplot as plt"
   ]
  },
  {
   "cell_type": "code",
   "execution_count": 5,
   "metadata": {},
   "outputs": [],
   "source": [
    "labels_file = \"Data/tracks_features.csv\"\n",
    "all_tracks = pd.read_csv(labels_file)"
   ]
  },
  {
   "attachments": {},
   "cell_type": "markdown",
   "metadata": {},
   "source": [
    "#### ONLY RUN IN GOOGLE COLAB ###"
   ]
  },
  {
   "cell_type": "code",
   "execution_count": null,
   "metadata": {},
   "outputs": [],
   "source": [
    "def name_of_file(track_id):\n",
    "  filename = f\"/content/drive/MyDrive/tracks_features_audio/{track_id}_audio.mp3\"\n",
    "  return filename"
   ]
  },
  {
   "cell_type": "code",
   "execution_count": null,
   "metadata": {},
   "outputs": [],
   "source": [
    "myDrive = \"/content/drive/MyDrive/\"\n",
    "tensor_file = os.path.join(os.path.dirname(myDrive), \"mfcc_tensor.pt\")\n",
    "\n",
    "# Load the tensor back and print the shape\n",
    "loaded_mfcc_tensor = torch.load(tensor_file)\n",
    "print(\"Loaded MFCC tensor shape:\", loaded_mfcc_tensor.shape)"
   ]
  },
  {
   "attachments": {},
   "cell_type": "markdown",
   "metadata": {},
   "source": [
    "#### Import MFCC model"
   ]
  },
  {
   "cell_type": "code",
   "execution_count": 4,
   "metadata": {},
   "outputs": [],
   "source": [
    "cnn_model_path = \"models/cnn_model_weights.pth\"\n",
    "rnn_model_path = \"models/rnn_model_weights.pth\"\n",
    "multi_task_model_path = \"models/multi_task_rnn_model_weights.pth\""
   ]
  },
  {
   "cell_type": "code",
   "execution_count": 6,
   "metadata": {},
   "outputs": [],
   "source": [
    "\n",
    "class AudioDataset(torch.utils.data.Dataset):\n",
    "  def __init__(self, mfcc_tensor, df):\n",
    "    self.df = df\n",
    "    self.mfcc = mfcc_tensor\n",
    "    self.mean = self.mfcc.mean()\n",
    "    self.std = self.mfcc.std()\n",
    "\n",
    "    # Standardize MFCC tensor\n",
    "    self.mfcc = (self.mfcc - self.mean) / self.std\n",
    "\n",
    "  def __len__(self):\n",
    "    return len(self.df)\n",
    "\n",
    "  def __getitem__(self, idx):\n",
    "    label = torch.tensor(self.df.iloc[idx]['danceability'], dtype=torch.float32)\n",
    "    mfcc = self.mfcc[idx]\n",
    "    return mfcc, label\n"
   ]
  },
  {
   "cell_type": "code",
   "execution_count": null,
   "metadata": {},
   "outputs": [],
   "source": [
    "import pandas as pd\n",
    "from sklearn.model_selection import train_test_split\n",
    "from torch.utils.data import DataLoader\n",
    "\n",
    "# Load the MFCC tensor\n",
    "myDrive = \"/content/drive/MyDrive/\"\n",
    "tensor_file = os.path.join(os.path.dirname(myDrive), \"mfcc_tensor.pt\")\n",
    "loaded_mfcc_tensor = torch.load(tensor_file).squeeze(1)\n",
    "print(\"Loaded MFCC tensor shape:\", loaded_mfcc_tensor.shape)\n",
    "\n",
    "# Split all_tracks and the loaded MFCC tensor\n",
    "train_tracks, test_val_tracks = train_test_split(all_tracks, test_size=0.3, random_state=42)\n",
    "test_tracks, val_tracks = train_test_split(test_val_tracks, test_size=0.5, random_state=42)\n",
    "\n",
    "train_mfcc, test_val_mfcc = train_test_split(loaded_mfcc_tensor, test_size=0.3, random_state=42)\n",
    "test_mfcc, val_mfcc = train_test_split(test_val_mfcc, test_size=0.5, random_state=42)\n",
    "\n",
    "# Create the datasets\n",
    "train_dataset = AudioDataset(train_mfcc, train_tracks)\n",
    "val_dataset = AudioDataset(val_mfcc, val_tracks)\n",
    "test_dataset = AudioDataset(test_mfcc, test_tracks)\n",
    "\n",
    "# Create the data loaders\n",
    "train_loader = DataLoader(train_dataset, batch_size=32, shuffle=True, num_workers=0)\n",
    "val_loader = DataLoader(val_dataset, batch_size=32, shuffle=False, num_workers=0)\n",
    "test_loader = DataLoader(test_dataset, batch_size=32, shuffle=False, num_workers=0)\n"
   ]
  }
 ],
 "metadata": {
  "kernelspec": {
   "display_name": "audio_dl",
   "language": "python",
   "name": "python3"
  },
  "language_info": {
   "codemirror_mode": {
    "name": "ipython",
    "version": 3
   },
   "file_extension": ".py",
   "mimetype": "text/x-python",
   "name": "python",
   "nbconvert_exporter": "python",
   "pygments_lexer": "ipython3",
   "version": "3.9.16"
  },
  "orig_nbformat": 4
 },
 "nbformat": 4,
 "nbformat_minor": 2
}
