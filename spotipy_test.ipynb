{
 "cells": [
  {
   "attachments": {},
   "cell_type": "markdown",
   "metadata": {},
   "source": [
    "## Spotipy installation and testing guidelines:"
   ]
  },
  {
   "attachments": {},
   "cell_type": "markdown",
   "metadata": {},
   "source": [
    "Quick setup:\n",
    "\n",
    "https://medium.com/@maxtingle/getting-started-with-spotifys-api-spotipy-197c3dc6353b\n",
    "\n",
    "Overall spotipy documentation:\n",
    "\n",
    "https://spotipy.readthedocs.io/en/2.13.0/#\n",
    "\n",
    "1. Install spotipy:"
   ]
  },
  {
   "cell_type": "code",
   "execution_count": 4,
   "metadata": {},
   "outputs": [
    {
     "name": "stdout",
     "output_type": "stream",
     "text": [
      "Requirement already satisfied: spotipy in /Users/cheffbcookin/opt/anaconda3/envs/dl_env/lib/python3.11/site-packages (2.22.1)\n",
      "Requirement already satisfied: redis>=3.5.3 in /Users/cheffbcookin/opt/anaconda3/envs/dl_env/lib/python3.11/site-packages (from spotipy) (4.5.1)\n",
      "Requirement already satisfied: requests>=2.25.0 in /Users/cheffbcookin/opt/anaconda3/envs/dl_env/lib/python3.11/site-packages (from spotipy) (2.28.2)\n",
      "Requirement already satisfied: six>=1.15.0 in /Users/cheffbcookin/opt/anaconda3/envs/dl_env/lib/python3.11/site-packages (from spotipy) (1.16.0)\n",
      "Requirement already satisfied: urllib3>=1.26.0 in /Users/cheffbcookin/opt/anaconda3/envs/dl_env/lib/python3.11/site-packages (from spotipy) (1.26.14)\n",
      "Requirement already satisfied: async-timeout>=4.0.2 in /Users/cheffbcookin/opt/anaconda3/envs/dl_env/lib/python3.11/site-packages (from redis>=3.5.3->spotipy) (4.0.2)\n",
      "Requirement already satisfied: charset-normalizer<4,>=2 in /Users/cheffbcookin/opt/anaconda3/envs/dl_env/lib/python3.11/site-packages (from requests>=2.25.0->spotipy) (3.0.1)\n",
      "Requirement already satisfied: idna<4,>=2.5 in /Users/cheffbcookin/opt/anaconda3/envs/dl_env/lib/python3.11/site-packages (from requests>=2.25.0->spotipy) (3.4)\n",
      "Requirement already satisfied: certifi>=2017.4.17 in /Users/cheffbcookin/opt/anaconda3/envs/dl_env/lib/python3.11/site-packages (from requests>=2.25.0->spotipy) (2022.12.7)\n"
     ]
    }
   ],
   "source": [
    "!pip install spotipy"
   ]
  },
  {
   "attachments": {},
   "cell_type": "markdown",
   "metadata": {},
   "source": [
    "2. Import client ID:\n",
    "\n",
    "Steps to be followed to create project here: https://developer.spotify.com/dashboard/login\n",
    "\n",
    "Create spotify account and sign up for developer account and create an application"
   ]
  },
  {
   "cell_type": "code",
   "execution_count": 2,
   "metadata": {},
   "outputs": [],
   "source": [
    "import spotipy\n",
    "from spotipy.oauth2 import SpotifyClientCredentials\n",
    "cid = '49789426e6c04428a2befbd3c2d79b02'\n",
    "secret = 'd18032252a0d4634aa8ca21356894e79'\n",
    "client_credentials_manager = SpotifyClientCredentials(client_id=cid, client_secret=secret)\n",
    "sp = spotipy.Spotify(client_credentials_manager=client_credentials_manager)"
   ]
  },
  {
   "attachments": {},
   "cell_type": "markdown",
   "metadata": {},
   "source": [
    "3. Retreive sample data:\n",
    "\n",
    "Spotify methods to access Artist, Track, and Album data endpoints all require you to know their individual Spotify ID. I started with the search endpoint, exemplified below, because it does not require a Spotify ID.\n",
    "The following code collects 1,000 Track IDs and their associated track name, artist name, and popularity score.\n"
   ]
  },
  {
   "cell_type": "code",
   "execution_count": 6,
   "metadata": {},
   "outputs": [],
   "source": [
    "artist_name = []\n",
    "track_name = []\n",
    "popularity = []\n",
    "track_id = []\n",
    "for i in range(0,1000,50):\n",
    "    track_results = sp.search(q='year:2018', type='track', limit=50,offset=i)\n",
    "    for i, t in enumerate(track_results['tracks']['items']):\n",
    "        artist_name.append(t['artists'][0]['name'])\n",
    "        track_name.append(t['name'])\n",
    "        track_id.append(t['id'])\n",
    "        popularity.append(t['popularity'])"
   ]
  },
  {
   "attachments": {},
   "cell_type": "markdown",
   "metadata": {},
   "source": [
    "4. Load data in for analysis\n",
    "\n",
    "Requires pandas installation"
   ]
  },
  {
   "cell_type": "code",
   "execution_count": 8,
   "metadata": {},
   "outputs": [
    {
     "name": "stdout",
     "output_type": "stream",
     "text": [
      "Collecting pandas\n",
      "  Downloading pandas-1.5.3-cp311-cp311-macosx_10_9_x86_64.whl (11.9 MB)\n",
      "\u001b[2K     \u001b[90m━━━━━━━━━━━━━━━━━━━━━━━━━━━━━━━━━━━━━━━━\u001b[0m \u001b[32m11.9/11.9 MB\u001b[0m \u001b[31m32.8 MB/s\u001b[0m eta \u001b[36m0:00:00\u001b[0m00:01\u001b[0m00:01\u001b[0m\n",
      "\u001b[?25hRequirement already satisfied: python-dateutil>=2.8.1 in /Users/cheffbcookin/opt/anaconda3/envs/dl_env/lib/python3.11/site-packages (from pandas) (2.8.2)\n",
      "Requirement already satisfied: pytz>=2020.1 in /Users/cheffbcookin/opt/anaconda3/envs/dl_env/lib/python3.11/site-packages (from pandas) (2022.7.1)\n",
      "Requirement already satisfied: numpy>=1.21.0 in /Users/cheffbcookin/opt/anaconda3/envs/dl_env/lib/python3.11/site-packages (from pandas) (1.24.1)\n",
      "Requirement already satisfied: six>=1.5 in /Users/cheffbcookin/opt/anaconda3/envs/dl_env/lib/python3.11/site-packages (from python-dateutil>=2.8.1->pandas) (1.16.0)\n",
      "Installing collected packages: pandas\n",
      "Successfully installed pandas-1.5.3\n"
     ]
    }
   ],
   "source": [
    "!pip install pandas"
   ]
  },
  {
   "cell_type": "code",
   "execution_count": 9,
   "metadata": {},
   "outputs": [
    {
     "name": "stdout",
     "output_type": "stream",
     "text": [
      "(1000, 4)\n"
     ]
    },
    {
     "data": {
      "text/html": [
       "<div>\n",
       "<style scoped>\n",
       "    .dataframe tbody tr th:only-of-type {\n",
       "        vertical-align: middle;\n",
       "    }\n",
       "\n",
       "    .dataframe tbody tr th {\n",
       "        vertical-align: top;\n",
       "    }\n",
       "\n",
       "    .dataframe thead th {\n",
       "        text-align: right;\n",
       "    }\n",
       "</style>\n",
       "<table border=\"1\" class=\"dataframe\">\n",
       "  <thead>\n",
       "    <tr style=\"text-align: right;\">\n",
       "      <th></th>\n",
       "      <th>artist_name</th>\n",
       "      <th>track_name</th>\n",
       "      <th>track_id</th>\n",
       "      <th>popularity</th>\n",
       "    </tr>\n",
       "  </thead>\n",
       "  <tbody>\n",
       "    <tr>\n",
       "      <th>0</th>\n",
       "      <td>Juice WRLD</td>\n",
       "      <td>All Girls Are The Same</td>\n",
       "      <td>4VXIryQMWpIdGgYR4TrjT1</td>\n",
       "      <td>82</td>\n",
       "    </tr>\n",
       "    <tr>\n",
       "      <th>1</th>\n",
       "      <td>The Weeknd</td>\n",
       "      <td>I Was Never There</td>\n",
       "      <td>1cKHdTo9u0ZymJdPGSh6nq</td>\n",
       "      <td>86</td>\n",
       "    </tr>\n",
       "    <tr>\n",
       "      <th>2</th>\n",
       "      <td>Morgan Wallen</td>\n",
       "      <td>Whiskey Glasses</td>\n",
       "      <td>6foY66mWZN0pSRjZ408c00</td>\n",
       "      <td>77</td>\n",
       "    </tr>\n",
       "    <tr>\n",
       "      <th>3</th>\n",
       "      <td>Lil Baby</td>\n",
       "      <td>Drip Too Hard (Lil Baby &amp; Gunna)</td>\n",
       "      <td>78QR3Wp35dqAhFEc2qAGjE</td>\n",
       "      <td>81</td>\n",
       "    </tr>\n",
       "    <tr>\n",
       "      <th>4</th>\n",
       "      <td>Morgan Wallen</td>\n",
       "      <td>Chasin' You</td>\n",
       "      <td>5MwynWK9s4hlyKHqhkNn4A</td>\n",
       "      <td>77</td>\n",
       "    </tr>\n",
       "  </tbody>\n",
       "</table>\n",
       "</div>"
      ],
      "text/plain": [
       "     artist_name                        track_name                track_id  \\\n",
       "0     Juice WRLD            All Girls Are The Same  4VXIryQMWpIdGgYR4TrjT1   \n",
       "1     The Weeknd                 I Was Never There  1cKHdTo9u0ZymJdPGSh6nq   \n",
       "2  Morgan Wallen                   Whiskey Glasses  6foY66mWZN0pSRjZ408c00   \n",
       "3       Lil Baby  Drip Too Hard (Lil Baby & Gunna)  78QR3Wp35dqAhFEc2qAGjE   \n",
       "4  Morgan Wallen                       Chasin' You  5MwynWK9s4hlyKHqhkNn4A   \n",
       "\n",
       "   popularity  \n",
       "0          82  \n",
       "1          86  \n",
       "2          77  \n",
       "3          81  \n",
       "4          77  "
      ]
     },
     "execution_count": 9,
     "metadata": {},
     "output_type": "execute_result"
    }
   ],
   "source": [
    "import pandas as pd\n",
    "\n",
    "track_dataframe = pd.DataFrame({'artist_name' : artist_name, 'track_name' : track_name, 'track_id' : track_id, 'popularity' : popularity})\n",
    "print(track_dataframe.shape)\n",
    "track_dataframe.head()"
   ]
  }
 ],
 "metadata": {
  "kernelspec": {
   "display_name": "dl_env",
   "language": "python",
   "name": "python3"
  },
  "language_info": {
   "codemirror_mode": {
    "name": "ipython",
    "version": 3
   },
   "file_extension": ".py",
   "mimetype": "text/x-python",
   "name": "python",
   "nbconvert_exporter": "python",
   "pygments_lexer": "ipython3",
   "version": "3.11.0"
  },
  "orig_nbformat": 4,
  "vscode": {
   "interpreter": {
    "hash": "e7e2c4419fde2123e8e3e6c6819d77af0f6ec6f03570102c3ad9e356a415348d"
   }
  }
 },
 "nbformat": 4,
 "nbformat_minor": 2
}
